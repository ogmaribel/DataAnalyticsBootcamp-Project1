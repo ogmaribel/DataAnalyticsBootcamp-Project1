{
 "cells": [
  {
   "cell_type": "markdown",
   "metadata": {},
   "source": [
    "# Data gathering and joining for Respiratory Diseases"
   ]
  },
  {
   "cell_type": "markdown",
   "metadata": {},
   "source": [
    "## Annual Hospitalizations\n",
    "Data obtained from Secretaría de Salud at: http://www.dgis.salud.gob.mx/contenidos/basesdedatos/da_egresoshosp_gobmx.html \n",
    "<br>\n",
    "Years considered: 2010 to 2016. \n",
    "\n",
    "\n",
    "Every Dataset contains (among others) the following information for each individual case:\n",
    "* Mexican State\n",
    "* CLUES: Clave Única de Establecimientos de Salud\n",
    "* Sex of the paitent\n",
    "* Age of the paitent\n",
    "* Main cause of medical attention\n",
    "\n",
    "\n",
    "\n",
    "Other datasources\n",
    "* [CLUES (Clave Única de Establecimientos de Salud) catalog](http://www.dgis.salud.gob.mx/contenidos/intercambio/clues_gobmx.html)\n",
    "    * Information on each Hospital: Name, address, certification status, etc.\n",
    "* [CIE-10 codes (Clasificación internacional de enfermedades)](http://cie10.org/index.html)\n",
    "    * Catalog of disease codes in order to cross-reference to each patient disease.\n",
    "\n",
    "\n",
    "\n"
   ]
  },
  {
   "cell_type": "code",
   "execution_count": 1,
   "metadata": {},
   "outputs": [],
   "source": [
    "import pandas as pd\n",
    "import numpy as np\n",
    "import matplotlib.pyplot as plt\n",
    "from datetime import datetime"
   ]
  },
  {
   "cell_type": "code",
   "execution_count": 2,
   "metadata": {},
   "outputs": [],
   "source": [
    "frames =[]"
   ]
  },
  {
   "cell_type": "markdown",
   "metadata": {},
   "source": [
    "Data sets from 2010 to 2014 have a slightly different format than dataests from 2015-2016. For this reason, datasets were read in two different loops.\n",
    "<br> \n",
    "Before contatenating the dataframes, only relevant columns were selected (CLUES, sex, age, and disease code).\n",
    "<br> \n",
    "Datasets were filtered as well to keep only cases from Mexico City."
   ]
  },
  {
   "cell_type": "code",
   "execution_count": 3,
   "metadata": {},
   "outputs": [],
   "source": [
    "# Read Egresos Hospitalarios for years 2010-2014\n",
    "\n",
    "years = ['2010', '2011', '2012', '2013', '2014']\n",
    "\n",
    "for year in years:\n",
    "    csv_path = f\"../Resources/Egresos/{year}_Sectorial.csv\"\n",
    "    aux = pd.read_csv(csv_path)\n",
    "    \n",
    "    # Filter only CDMX - CEDOCVE (State Code) = 9 for Mexico City\n",
    "    aux = aux.loc[aux['CEDOCVE']==9]\n",
    "    \n",
    "    # Keep only relevant columns\n",
    "    aux = aux[['CLUES', 'SEXO', 'EDAD', 'AFECPRIN4']]\n",
    "    \n",
    "    # Add a column with the year for future data processing\n",
    "    aux['YEAR'] = year\n",
    "    \n",
    "    frames.append(aux)"
   ]
  },
  {
   "cell_type": "code",
   "execution_count": 4,
   "metadata": {},
   "outputs": [],
   "source": [
    "# Read Egresos Hospitalarios for years 2015-2016\n",
    "years = ['2015', '2016']\n",
    "\n",
    "for year in years:\n",
    "    csv_path = f\"../Resources/Egresos/{year}_Sectorial.csv\"\n",
    "    aux = pd.read_csv(csv_path)\n",
    "    \n",
    "    # Filter only CDMX - CEDOCVE (State Code) = 9 for Mexico City\n",
    "    aux = aux.loc[aux['CEDOCVE']==9]\n",
    "    \n",
    "    # Keep only relevant columns\n",
    "    aux = aux[['CLUES', 'SEXO', 'EDAD1', 'AFECPRIN4']]\n",
    "    \n",
    "    # Add a column with the year for future data processing\n",
    "    aux['YEAR'] = year\n",
    "    \n",
    "    # Rename Age Column to match the other datasets\n",
    "    aux = aux.rename(columns ={'EDAD1':'EDAD'})\n",
    "    \n",
    "    frames.append(aux)"
   ]
  },
  {
   "cell_type": "code",
   "execution_count": 5,
   "metadata": {},
   "outputs": [
    {
     "data": {
      "text/html": [
       "<div>\n",
       "<style scoped>\n",
       "    .dataframe tbody tr th:only-of-type {\n",
       "        vertical-align: middle;\n",
       "    }\n",
       "\n",
       "    .dataframe tbody tr th {\n",
       "        vertical-align: top;\n",
       "    }\n",
       "\n",
       "    .dataframe thead th {\n",
       "        text-align: right;\n",
       "    }\n",
       "</style>\n",
       "<table border=\"1\" class=\"dataframe\">\n",
       "  <thead>\n",
       "    <tr style=\"text-align: right;\">\n",
       "      <th></th>\n",
       "      <th>CLUES</th>\n",
       "      <th>SEXO</th>\n",
       "      <th>EDAD</th>\n",
       "      <th>AFECPRIN4</th>\n",
       "      <th>YEAR</th>\n",
       "    </tr>\n",
       "  </thead>\n",
       "  <tbody>\n",
       "    <tr>\n",
       "      <th>0</th>\n",
       "      <td>DFSSA018166</td>\n",
       "      <td>2</td>\n",
       "      <td>35</td>\n",
       "      <td>O829</td>\n",
       "      <td>2010</td>\n",
       "    </tr>\n",
       "    <tr>\n",
       "      <th>1</th>\n",
       "      <td>DFSSA018166</td>\n",
       "      <td>2</td>\n",
       "      <td>19</td>\n",
       "      <td>O809</td>\n",
       "      <td>2010</td>\n",
       "    </tr>\n",
       "    <tr>\n",
       "      <th>2</th>\n",
       "      <td>DFSSA018166</td>\n",
       "      <td>1</td>\n",
       "      <td>0</td>\n",
       "      <td>Z038</td>\n",
       "      <td>2010</td>\n",
       "    </tr>\n",
       "    <tr>\n",
       "      <th>3</th>\n",
       "      <td>DFSSA018166</td>\n",
       "      <td>2</td>\n",
       "      <td>57</td>\n",
       "      <td>K37X</td>\n",
       "      <td>2010</td>\n",
       "    </tr>\n",
       "    <tr>\n",
       "      <th>4</th>\n",
       "      <td>DFSSA017886</td>\n",
       "      <td>2</td>\n",
       "      <td>30</td>\n",
       "      <td>O369</td>\n",
       "      <td>2010</td>\n",
       "    </tr>\n",
       "  </tbody>\n",
       "</table>\n",
       "</div>"
      ],
      "text/plain": [
       "         CLUES  SEXO  EDAD AFECPRIN4  YEAR\n",
       "0  DFSSA018166     2    35      O829  2010\n",
       "1  DFSSA018166     2    19      O809  2010\n",
       "2  DFSSA018166     1     0      Z038  2010\n",
       "3  DFSSA018166     2    57      K37X  2010\n",
       "4  DFSSA017886     2    30      O369  2010"
      ]
     },
     "execution_count": 5,
     "metadata": {},
     "output_type": "execute_result"
    }
   ],
   "source": [
    "# Concatenate dataframes\n",
    "egresos = pd.concat(frames).reset_index(drop=True)\n",
    "egresos.head()"
   ]
  },
  {
   "cell_type": "code",
   "execution_count": 6,
   "metadata": {},
   "outputs": [
    {
     "data": {
      "text/plain": [
       "array(['2010', '2011', '2012', '2013', '2014', '2015', '2016'],\n",
       "      dtype=object)"
      ]
     },
     "execution_count": 6,
     "metadata": {},
     "output_type": "execute_result"
    }
   ],
   "source": [
    "egresos['YEAR'].unique()"
   ]
  },
  {
   "cell_type": "code",
   "execution_count": 7,
   "metadata": {},
   "outputs": [
    {
     "data": {
      "text/plain": [
       "(4718962, 5)"
      ]
     },
     "execution_count": 7,
     "metadata": {},
     "output_type": "execute_result"
    }
   ],
   "source": [
    "egresos.shape"
   ]
  },
  {
   "cell_type": "markdown",
   "metadata": {},
   "source": [
    "## International Classification of Diseases"
   ]
  },
  {
   "cell_type": "markdown",
   "metadata": {},
   "source": [
    "The column \"AFECPRIN\" corresponds to the disease code given by the International Classification of Diseases, a classification system developed by the World Health Organization. More details can be found at http://www.cie10.org/ <br>\n",
    "<br>\n",
    "In this classification, all respiratory diseases start with the letter \"J\". Dataset was filtered to contain only data on respiratory diseases.\n"
   ]
  },
  {
   "cell_type": "code",
   "execution_count": 8,
   "metadata": {
    "scrolled": true
   },
   "outputs": [
    {
     "data": {
      "text/html": [
       "<div>\n",
       "<style scoped>\n",
       "    .dataframe tbody tr th:only-of-type {\n",
       "        vertical-align: middle;\n",
       "    }\n",
       "\n",
       "    .dataframe tbody tr th {\n",
       "        vertical-align: top;\n",
       "    }\n",
       "\n",
       "    .dataframe thead th {\n",
       "        text-align: right;\n",
       "    }\n",
       "</style>\n",
       "<table border=\"1\" class=\"dataframe\">\n",
       "  <thead>\n",
       "    <tr style=\"text-align: right;\">\n",
       "      <th></th>\n",
       "      <th>CLUES</th>\n",
       "      <th>SEXO</th>\n",
       "      <th>EDAD</th>\n",
       "      <th>AFECPRIN4</th>\n",
       "      <th>YEAR</th>\n",
       "    </tr>\n",
       "  </thead>\n",
       "  <tbody>\n",
       "    <tr>\n",
       "      <th>19</th>\n",
       "      <td>DFSSA018166</td>\n",
       "      <td>1</td>\n",
       "      <td>4</td>\n",
       "      <td>J180</td>\n",
       "      <td>2010</td>\n",
       "    </tr>\n",
       "    <tr>\n",
       "      <th>31</th>\n",
       "      <td>DFSSA018166</td>\n",
       "      <td>1</td>\n",
       "      <td>0</td>\n",
       "      <td>J180</td>\n",
       "      <td>2010</td>\n",
       "    </tr>\n",
       "    <tr>\n",
       "      <th>43</th>\n",
       "      <td>DFSSA018166</td>\n",
       "      <td>2</td>\n",
       "      <td>2</td>\n",
       "      <td>J189</td>\n",
       "      <td>2010</td>\n",
       "    </tr>\n",
       "    <tr>\n",
       "      <th>50</th>\n",
       "      <td>DFSSA018166</td>\n",
       "      <td>1</td>\n",
       "      <td>2</td>\n",
       "      <td>J180</td>\n",
       "      <td>2010</td>\n",
       "    </tr>\n",
       "    <tr>\n",
       "      <th>85</th>\n",
       "      <td>DFSSA018166</td>\n",
       "      <td>2</td>\n",
       "      <td>59</td>\n",
       "      <td>J90X</td>\n",
       "      <td>2010</td>\n",
       "    </tr>\n",
       "  </tbody>\n",
       "</table>\n",
       "</div>"
      ],
      "text/plain": [
       "          CLUES  SEXO  EDAD AFECPRIN4  YEAR\n",
       "19  DFSSA018166     1     4      J180  2010\n",
       "31  DFSSA018166     1     0      J180  2010\n",
       "43  DFSSA018166     2     2      J189  2010\n",
       "50  DFSSA018166     1     2      J180  2010\n",
       "85  DFSSA018166     2    59      J90X  2010"
      ]
     },
     "execution_count": 8,
     "metadata": {},
     "output_type": "execute_result"
    }
   ],
   "source": [
    "#Filro por enfermedades respiratorias - empiezan con J\n",
    "egresos_resp = egresos.loc[egresos[\"AFECPRIN4\"].str.startswith(\"J\")==True]\n",
    "egresos_resp.head()"
   ]
  },
  {
   "cell_type": "code",
   "execution_count": 9,
   "metadata": {},
   "outputs": [
    {
     "data": {
      "text/plain": [
       "(242151, 5)"
      ]
     },
     "execution_count": 9,
     "metadata": {},
     "output_type": "execute_result"
    }
   ],
   "source": [
    "egresos_resp.shape"
   ]
  },
  {
   "cell_type": "markdown",
   "metadata": {},
   "source": [
    "## Clave Única de Establecimientos de Salud (CLUES)"
   ]
  },
  {
   "cell_type": "markdown",
   "metadata": {},
   "source": [
    "The column \"CLUES\" corresponds to the code given by Secretaría de Salud to each Health Clinic or Hospital. The complete catalog can be found at http://www.dgis.salud.gob.mx/contenidos/intercambio/clues_gobmx.html <br>\n",
    "<br>\n",
    "The dataset contains (among many others) the following information for each health center:\n",
    "* Name of State and City\n",
    "* Name and Address of Hospital\n",
    "* Coordinates of Hospital\n",
    "* Type of Certification\n",
    "* Start of Operation\n",
    "\n",
    "This dataset was filtered to contain only hospitals within Mexico City, and only the columns on CLUES, Municipality (Delegación), and Coordinates were kept.\n"
   ]
  },
  {
   "cell_type": "code",
   "execution_count": 10,
   "metadata": {
    "scrolled": true
   },
   "outputs": [
    {
     "name": "stderr",
     "output_type": "stream",
     "text": [
      "C:\\Users\\sandr\\Anaconda3\\lib\\site-packages\\IPython\\core\\interactiveshell.py:3020: DtypeWarning: Columns (59,60) have mixed types. Specify dtype option on import or set low_memory=False.\n",
      "  interactivity=interactivity, compiler=compiler, result=result)\n"
     ]
    }
   ],
   "source": [
    "catalogo_hospitales_path = '../Resources/ESTABLECIMIENTO_SALUD_201902.csv'\n",
    "catalogo_hospitales = pd.read_csv(catalogo_hospitales_path,encoding=\"UTF-8\")"
   ]
  },
  {
   "cell_type": "code",
   "execution_count": 11,
   "metadata": {},
   "outputs": [
    {
     "data": {
      "text/html": [
       "<div>\n",
       "<style scoped>\n",
       "    .dataframe tbody tr th:only-of-type {\n",
       "        vertical-align: middle;\n",
       "    }\n",
       "\n",
       "    .dataframe tbody tr th {\n",
       "        vertical-align: top;\n",
       "    }\n",
       "\n",
       "    .dataframe thead th {\n",
       "        text-align: right;\n",
       "    }\n",
       "</style>\n",
       "<table border=\"1\" class=\"dataframe\">\n",
       "  <thead>\n",
       "    <tr style=\"text-align: right;\">\n",
       "      <th></th>\n",
       "      <th>CLUES</th>\n",
       "      <th>NOMBRE DE LA ENTIDAD</th>\n",
       "      <th>CLAVE DE LA ENTIDAD</th>\n",
       "      <th>NOMBRE DEL MUNICIPIO</th>\n",
       "      <th>CLAVE DEL MUNICIPIO</th>\n",
       "      <th>NOMBRE DE LA LOCALIDAD</th>\n",
       "      <th>CLAVE DE LA LOCALIDAD</th>\n",
       "      <th>NOMBRE DE LA JURISDICCION</th>\n",
       "      <th>CLAVE DE LA JURISDICCION</th>\n",
       "      <th>NOMBRE DE LA INSTITUCION</th>\n",
       "      <th>...</th>\n",
       "      <th>CLAVE ESTRATO UNIDAD</th>\n",
       "      <th>TIPO OBRA</th>\n",
       "      <th>CLAVE TIPO OBRA</th>\n",
       "      <th>HORARIO DE ATENCION</th>\n",
       "      <th>AREAS Y SERVICIOS</th>\n",
       "      <th>ULTIMO MOVIMIENTO</th>\n",
       "      <th>FECHA ULTIMO MOVIMIENTO</th>\n",
       "      <th>CERTIFICACION CSG</th>\n",
       "      <th>TIPO CERTIFICACION</th>\n",
       "      <th>VIGENCIA CERTIFICACION</th>\n",
       "    </tr>\n",
       "  </thead>\n",
       "  <tbody>\n",
       "    <tr>\n",
       "      <th>0</th>\n",
       "      <td>ASDIF000011</td>\n",
       "      <td>AGUASCALIENTES</td>\n",
       "      <td>1</td>\n",
       "      <td>AGUASCALIENTES</td>\n",
       "      <td>1</td>\n",
       "      <td>AGUASCALIENTES</td>\n",
       "      <td>1</td>\n",
       "      <td>AGUASCALIENTES</td>\n",
       "      <td>1</td>\n",
       "      <td>SISTEMA NACIONAL PARA EL DESARROLLO INTEGRAL D...</td>\n",
       "      <td>...</td>\n",
       "      <td>2</td>\n",
       "      <td>NO ESPECIFICADO</td>\n",
       "      <td>6.0</td>\n",
       "      <td>NaN</td>\n",
       "      <td>NaN</td>\n",
       "      <td>CAMBIO</td>\n",
       "      <td>2012-01-03</td>\n",
       "      <td>NO CERTIFICADO</td>\n",
       "      <td>NO ESPECIFICADO</td>\n",
       "      <td>NaN</td>\n",
       "    </tr>\n",
       "    <tr>\n",
       "      <th>1</th>\n",
       "      <td>ASDIF000023</td>\n",
       "      <td>AGUASCALIENTES</td>\n",
       "      <td>1</td>\n",
       "      <td>COSÍO</td>\n",
       "      <td>4</td>\n",
       "      <td>COSIO</td>\n",
       "      <td>1</td>\n",
       "      <td>RINCÓN DE ROMOS</td>\n",
       "      <td>2</td>\n",
       "      <td>SISTEMA NACIONAL PARA EL DESARROLLO INTEGRAL D...</td>\n",
       "      <td>...</td>\n",
       "      <td>2</td>\n",
       "      <td>NO ESPECIFICADO</td>\n",
       "      <td>6.0</td>\n",
       "      <td>NaN</td>\n",
       "      <td>NaN</td>\n",
       "      <td>CAMBIO</td>\n",
       "      <td>2012-01-03</td>\n",
       "      <td>NO CERTIFICADO</td>\n",
       "      <td>NO ESPECIFICADO</td>\n",
       "      <td>NaN</td>\n",
       "    </tr>\n",
       "    <tr>\n",
       "      <th>2</th>\n",
       "      <td>ASDIF000035</td>\n",
       "      <td>AGUASCALIENTES</td>\n",
       "      <td>1</td>\n",
       "      <td>RINCÓN DE ROMOS</td>\n",
       "      <td>7</td>\n",
       "      <td>RINCON DE ROMOS</td>\n",
       "      <td>1</td>\n",
       "      <td>RINCÓN DE ROMOS</td>\n",
       "      <td>2</td>\n",
       "      <td>SISTEMA NACIONAL PARA EL DESARROLLO INTEGRAL D...</td>\n",
       "      <td>...</td>\n",
       "      <td>2</td>\n",
       "      <td>NO ESPECIFICADO</td>\n",
       "      <td>6.0</td>\n",
       "      <td>NaN</td>\n",
       "      <td>NaN</td>\n",
       "      <td>CAMBIO</td>\n",
       "      <td>2012-01-03</td>\n",
       "      <td>NO CERTIFICADO</td>\n",
       "      <td>NO ESPECIFICADO</td>\n",
       "      <td>NaN</td>\n",
       "    </tr>\n",
       "    <tr>\n",
       "      <th>3</th>\n",
       "      <td>ASDIF000040</td>\n",
       "      <td>AGUASCALIENTES</td>\n",
       "      <td>1</td>\n",
       "      <td>TEPEZALÁ</td>\n",
       "      <td>9</td>\n",
       "      <td>TEPEZALA</td>\n",
       "      <td>1</td>\n",
       "      <td>RINCÓN DE ROMOS</td>\n",
       "      <td>2</td>\n",
       "      <td>SISTEMA NACIONAL PARA EL DESARROLLO INTEGRAL D...</td>\n",
       "      <td>...</td>\n",
       "      <td>2</td>\n",
       "      <td>NO ESPECIFICADO</td>\n",
       "      <td>6.0</td>\n",
       "      <td>NaN</td>\n",
       "      <td>NaN</td>\n",
       "      <td>CAMBIO</td>\n",
       "      <td>2012-01-03</td>\n",
       "      <td>NO CERTIFICADO</td>\n",
       "      <td>NO ESPECIFICADO</td>\n",
       "      <td>NaN</td>\n",
       "    </tr>\n",
       "    <tr>\n",
       "      <th>4</th>\n",
       "      <td>ASDIF000052</td>\n",
       "      <td>AGUASCALIENTES</td>\n",
       "      <td>1</td>\n",
       "      <td>CALVILLO</td>\n",
       "      <td>3</td>\n",
       "      <td>CALVILLO</td>\n",
       "      <td>1</td>\n",
       "      <td>CALVILLO</td>\n",
       "      <td>3</td>\n",
       "      <td>SISTEMA NACIONAL PARA EL DESARROLLO INTEGRAL D...</td>\n",
       "      <td>...</td>\n",
       "      <td>2</td>\n",
       "      <td>NO ESPECIFICADO</td>\n",
       "      <td>6.0</td>\n",
       "      <td>NaN</td>\n",
       "      <td>NaN</td>\n",
       "      <td>CAMBIO</td>\n",
       "      <td>2012-01-03</td>\n",
       "      <td>NO CERTIFICADO</td>\n",
       "      <td>NO ESPECIFICADO</td>\n",
       "      <td>NaN</td>\n",
       "    </tr>\n",
       "  </tbody>\n",
       "</table>\n",
       "<p>5 rows × 80 columns</p>\n",
       "</div>"
      ],
      "text/plain": [
       "         CLUES NOMBRE DE LA ENTIDAD  CLAVE DE LA ENTIDAD NOMBRE DEL MUNICIPIO  \\\n",
       "0  ASDIF000011       AGUASCALIENTES                    1       AGUASCALIENTES   \n",
       "1  ASDIF000023       AGUASCALIENTES                    1                COSÍO   \n",
       "2  ASDIF000035       AGUASCALIENTES                    1      RINCÓN DE ROMOS   \n",
       "3  ASDIF000040       AGUASCALIENTES                    1             TEPEZALÁ   \n",
       "4  ASDIF000052       AGUASCALIENTES                    1             CALVILLO   \n",
       "\n",
       "   CLAVE DEL MUNICIPIO NOMBRE DE LA LOCALIDAD  CLAVE DE LA LOCALIDAD  \\\n",
       "0                    1         AGUASCALIENTES                      1   \n",
       "1                    4                  COSIO                      1   \n",
       "2                    7        RINCON DE ROMOS                      1   \n",
       "3                    9               TEPEZALA                      1   \n",
       "4                    3               CALVILLO                      1   \n",
       "\n",
       "  NOMBRE DE LA JURISDICCION  CLAVE DE LA JURISDICCION  \\\n",
       "0            AGUASCALIENTES                         1   \n",
       "1           RINCÓN DE ROMOS                         2   \n",
       "2           RINCÓN DE ROMOS                         2   \n",
       "3           RINCÓN DE ROMOS                         2   \n",
       "4                  CALVILLO                         3   \n",
       "\n",
       "                            NOMBRE DE LA INSTITUCION          ...            \\\n",
       "0  SISTEMA NACIONAL PARA EL DESARROLLO INTEGRAL D...          ...             \n",
       "1  SISTEMA NACIONAL PARA EL DESARROLLO INTEGRAL D...          ...             \n",
       "2  SISTEMA NACIONAL PARA EL DESARROLLO INTEGRAL D...          ...             \n",
       "3  SISTEMA NACIONAL PARA EL DESARROLLO INTEGRAL D...          ...             \n",
       "4  SISTEMA NACIONAL PARA EL DESARROLLO INTEGRAL D...          ...             \n",
       "\n",
       "  CLAVE ESTRATO UNIDAD        TIPO OBRA CLAVE TIPO OBRA HORARIO DE ATENCION  \\\n",
       "0                    2  NO ESPECIFICADO             6.0                 NaN   \n",
       "1                    2  NO ESPECIFICADO             6.0                 NaN   \n",
       "2                    2  NO ESPECIFICADO             6.0                 NaN   \n",
       "3                    2  NO ESPECIFICADO             6.0                 NaN   \n",
       "4                    2  NO ESPECIFICADO             6.0                 NaN   \n",
       "\n",
       "  AREAS Y SERVICIOS ULTIMO MOVIMIENTO FECHA ULTIMO MOVIMIENTO  \\\n",
       "0               NaN            CAMBIO              2012-01-03   \n",
       "1               NaN            CAMBIO              2012-01-03   \n",
       "2               NaN            CAMBIO              2012-01-03   \n",
       "3               NaN            CAMBIO              2012-01-03   \n",
       "4               NaN            CAMBIO              2012-01-03   \n",
       "\n",
       "  CERTIFICACION CSG  TIPO CERTIFICACION VIGENCIA CERTIFICACION  \n",
       "0    NO CERTIFICADO     NO ESPECIFICADO                    NaN  \n",
       "1    NO CERTIFICADO     NO ESPECIFICADO                    NaN  \n",
       "2    NO CERTIFICADO     NO ESPECIFICADO                    NaN  \n",
       "3    NO CERTIFICADO     NO ESPECIFICADO                    NaN  \n",
       "4    NO CERTIFICADO     NO ESPECIFICADO                    NaN  \n",
       "\n",
       "[5 rows x 80 columns]"
      ]
     },
     "execution_count": 11,
     "metadata": {},
     "output_type": "execute_result"
    }
   ],
   "source": [
    "catalogo_hospitales.head()"
   ]
  },
  {
   "cell_type": "code",
   "execution_count": 12,
   "metadata": {
    "scrolled": true
   },
   "outputs": [
    {
     "data": {
      "text/html": [
       "<div>\n",
       "<style scoped>\n",
       "    .dataframe tbody tr th:only-of-type {\n",
       "        vertical-align: middle;\n",
       "    }\n",
       "\n",
       "    .dataframe tbody tr th {\n",
       "        vertical-align: top;\n",
       "    }\n",
       "\n",
       "    .dataframe thead th {\n",
       "        text-align: right;\n",
       "    }\n",
       "</style>\n",
       "<table border=\"1\" class=\"dataframe\">\n",
       "  <thead>\n",
       "    <tr style=\"text-align: right;\">\n",
       "      <th></th>\n",
       "      <th>CLUES</th>\n",
       "      <th>NOMBRE DE LA ENTIDAD</th>\n",
       "      <th>CLAVE DE LA ENTIDAD</th>\n",
       "      <th>NOMBRE DEL MUNICIPIO</th>\n",
       "      <th>CLAVE DEL MUNICIPIO</th>\n",
       "      <th>NOMBRE DE LA LOCALIDAD</th>\n",
       "      <th>CLAVE DE LA LOCALIDAD</th>\n",
       "      <th>NOMBRE DE LA JURISDICCION</th>\n",
       "      <th>CLAVE DE LA JURISDICCION</th>\n",
       "      <th>NOMBRE DE LA INSTITUCION</th>\n",
       "      <th>...</th>\n",
       "      <th>CLAVE ESTRATO UNIDAD</th>\n",
       "      <th>TIPO OBRA</th>\n",
       "      <th>CLAVE TIPO OBRA</th>\n",
       "      <th>HORARIO DE ATENCION</th>\n",
       "      <th>AREAS Y SERVICIOS</th>\n",
       "      <th>ULTIMO MOVIMIENTO</th>\n",
       "      <th>FECHA ULTIMO MOVIMIENTO</th>\n",
       "      <th>CERTIFICACION CSG</th>\n",
       "      <th>TIPO CERTIFICACION</th>\n",
       "      <th>VIGENCIA CERTIFICACION</th>\n",
       "    </tr>\n",
       "  </thead>\n",
       "  <tbody>\n",
       "    <tr>\n",
       "      <th>6439</th>\n",
       "      <td>DFCIJ000011</td>\n",
       "      <td>CIUDAD DE MEXICO</td>\n",
       "      <td>9</td>\n",
       "      <td>VENUSTIANO CARRANZA</td>\n",
       "      <td>17</td>\n",
       "      <td>VENUSTIANO CARRANZA</td>\n",
       "      <td>1</td>\n",
       "      <td>VENUSTIANO CARRANZA</td>\n",
       "      <td>16</td>\n",
       "      <td>CENTROS DE INTEGRACION JUVENIL</td>\n",
       "      <td>...</td>\n",
       "      <td>2</td>\n",
       "      <td>NO ESPECIFICADO</td>\n",
       "      <td>6.0</td>\n",
       "      <td>CONSULTA EXTERNA - L,M,X,J,V, DE 08:00:00 A 20...</td>\n",
       "      <td>NaN</td>\n",
       "      <td>ALTA</td>\n",
       "      <td>2018-10-16</td>\n",
       "      <td>NO CERTIFICADO</td>\n",
       "      <td>NO ESPECIFICADO</td>\n",
       "      <td>NaN</td>\n",
       "    </tr>\n",
       "    <tr>\n",
       "      <th>6440</th>\n",
       "      <td>DFCIJ000023</td>\n",
       "      <td>CIUDAD DE MEXICO</td>\n",
       "      <td>9</td>\n",
       "      <td>CUAUHTÉMOC</td>\n",
       "      <td>15</td>\n",
       "      <td>NO ESPECIFICADO</td>\n",
       "      <td>9999</td>\n",
       "      <td>CUAUHTÉMOC</td>\n",
       "      <td>15</td>\n",
       "      <td>CENTROS DE INTEGRACION JUVENIL</td>\n",
       "      <td>...</td>\n",
       "      <td>2</td>\n",
       "      <td>NO ESPECIFICADO</td>\n",
       "      <td>6.0</td>\n",
       "      <td>CONSULTA EXTERNA - L,M,X,J,V, DE 08:00:00 A 19...</td>\n",
       "      <td>NaN</td>\n",
       "      <td>ALTA</td>\n",
       "      <td>2018-10-16</td>\n",
       "      <td>NO CERTIFICADO</td>\n",
       "      <td>NO ESPECIFICADO</td>\n",
       "      <td>NaN</td>\n",
       "    </tr>\n",
       "    <tr>\n",
       "      <th>6441</th>\n",
       "      <td>DFCIJ000035</td>\n",
       "      <td>CIUDAD DE MEXICO</td>\n",
       "      <td>9</td>\n",
       "      <td>CUAJIMALPA DE MORELOS</td>\n",
       "      <td>4</td>\n",
       "      <td>CUAJIMALPA DE MORELOS</td>\n",
       "      <td>1</td>\n",
       "      <td>CUAJIMALPA</td>\n",
       "      <td>7</td>\n",
       "      <td>CENTROS DE INTEGRACION JUVENIL</td>\n",
       "      <td>...</td>\n",
       "      <td>2</td>\n",
       "      <td>NO ESPECIFICADO</td>\n",
       "      <td>6.0</td>\n",
       "      <td>CONSULTA EXTERNA - L,M,X,J,V, DE 08:00:00 A 16...</td>\n",
       "      <td>NaN</td>\n",
       "      <td>ALTA</td>\n",
       "      <td>2018-10-16</td>\n",
       "      <td>NO CERTIFICADO</td>\n",
       "      <td>NO ESPECIFICADO</td>\n",
       "      <td>NaN</td>\n",
       "    </tr>\n",
       "    <tr>\n",
       "      <th>6442</th>\n",
       "      <td>DFCIJ000040</td>\n",
       "      <td>CIUDAD DE MEXICO</td>\n",
       "      <td>9</td>\n",
       "      <td>COYOACÁN</td>\n",
       "      <td>3</td>\n",
       "      <td>COYOACAN</td>\n",
       "      <td>1</td>\n",
       "      <td>COYOACÁN</td>\n",
       "      <td>4</td>\n",
       "      <td>CENTROS DE INTEGRACION JUVENIL</td>\n",
       "      <td>...</td>\n",
       "      <td>2</td>\n",
       "      <td>NO ESPECIFICADO</td>\n",
       "      <td>6.0</td>\n",
       "      <td>CONSULTA EXTERNA - L,M,X,J,V, DE 08:00:00 A 20...</td>\n",
       "      <td>NaN</td>\n",
       "      <td>ALTA</td>\n",
       "      <td>2018-10-16</td>\n",
       "      <td>NO CERTIFICADO</td>\n",
       "      <td>NO ESPECIFICADO</td>\n",
       "      <td>NaN</td>\n",
       "    </tr>\n",
       "    <tr>\n",
       "      <th>6443</th>\n",
       "      <td>DFCIJ000052</td>\n",
       "      <td>CIUDAD DE MEXICO</td>\n",
       "      <td>9</td>\n",
       "      <td>BENITO JUÁREZ</td>\n",
       "      <td>14</td>\n",
       "      <td>BENITO JUAREZ</td>\n",
       "      <td>1</td>\n",
       "      <td>BENITO JUÁREZ</td>\n",
       "      <td>14</td>\n",
       "      <td>CENTROS DE INTEGRACION JUVENIL</td>\n",
       "      <td>...</td>\n",
       "      <td>2</td>\n",
       "      <td>NO ESPECIFICADO</td>\n",
       "      <td>6.0</td>\n",
       "      <td>CONSULTA EXTERNA - L,M,X,J,V, DE 08:00:00 A 19...</td>\n",
       "      <td>NaN</td>\n",
       "      <td>ALTA</td>\n",
       "      <td>2018-10-16</td>\n",
       "      <td>NO CERTIFICADO</td>\n",
       "      <td>NO ESPECIFICADO</td>\n",
       "      <td>NaN</td>\n",
       "    </tr>\n",
       "  </tbody>\n",
       "</table>\n",
       "<p>5 rows × 80 columns</p>\n",
       "</div>"
      ],
      "text/plain": [
       "            CLUES NOMBRE DE LA ENTIDAD  CLAVE DE LA ENTIDAD  \\\n",
       "6439  DFCIJ000011     CIUDAD DE MEXICO                    9   \n",
       "6440  DFCIJ000023     CIUDAD DE MEXICO                    9   \n",
       "6441  DFCIJ000035     CIUDAD DE MEXICO                    9   \n",
       "6442  DFCIJ000040     CIUDAD DE MEXICO                    9   \n",
       "6443  DFCIJ000052     CIUDAD DE MEXICO                    9   \n",
       "\n",
       "       NOMBRE DEL MUNICIPIO  CLAVE DEL MUNICIPIO NOMBRE DE LA LOCALIDAD  \\\n",
       "6439    VENUSTIANO CARRANZA                   17    VENUSTIANO CARRANZA   \n",
       "6440             CUAUHTÉMOC                   15        NO ESPECIFICADO   \n",
       "6441  CUAJIMALPA DE MORELOS                    4  CUAJIMALPA DE MORELOS   \n",
       "6442               COYOACÁN                    3               COYOACAN   \n",
       "6443          BENITO JUÁREZ                   14          BENITO JUAREZ   \n",
       "\n",
       "      CLAVE DE LA LOCALIDAD NOMBRE DE LA JURISDICCION  \\\n",
       "6439                      1       VENUSTIANO CARRANZA   \n",
       "6440                   9999                CUAUHTÉMOC   \n",
       "6441                      1                CUAJIMALPA   \n",
       "6442                      1                  COYOACÁN   \n",
       "6443                      1             BENITO JUÁREZ   \n",
       "\n",
       "      CLAVE DE LA JURISDICCION        NOMBRE DE LA INSTITUCION  \\\n",
       "6439                        16  CENTROS DE INTEGRACION JUVENIL   \n",
       "6440                        15  CENTROS DE INTEGRACION JUVENIL   \n",
       "6441                         7  CENTROS DE INTEGRACION JUVENIL   \n",
       "6442                         4  CENTROS DE INTEGRACION JUVENIL   \n",
       "6443                        14  CENTROS DE INTEGRACION JUVENIL   \n",
       "\n",
       "              ...           CLAVE ESTRATO UNIDAD        TIPO OBRA  \\\n",
       "6439          ...                              2  NO ESPECIFICADO   \n",
       "6440          ...                              2  NO ESPECIFICADO   \n",
       "6441          ...                              2  NO ESPECIFICADO   \n",
       "6442          ...                              2  NO ESPECIFICADO   \n",
       "6443          ...                              2  NO ESPECIFICADO   \n",
       "\n",
       "     CLAVE TIPO OBRA                                HORARIO DE ATENCION  \\\n",
       "6439             6.0  CONSULTA EXTERNA - L,M,X,J,V, DE 08:00:00 A 20...   \n",
       "6440             6.0  CONSULTA EXTERNA - L,M,X,J,V, DE 08:00:00 A 19...   \n",
       "6441             6.0  CONSULTA EXTERNA - L,M,X,J,V, DE 08:00:00 A 16...   \n",
       "6442             6.0  CONSULTA EXTERNA - L,M,X,J,V, DE 08:00:00 A 20...   \n",
       "6443             6.0  CONSULTA EXTERNA - L,M,X,J,V, DE 08:00:00 A 19...   \n",
       "\n",
       "     AREAS Y SERVICIOS ULTIMO MOVIMIENTO FECHA ULTIMO MOVIMIENTO  \\\n",
       "6439               NaN              ALTA              2018-10-16   \n",
       "6440               NaN              ALTA              2018-10-16   \n",
       "6441               NaN              ALTA              2018-10-16   \n",
       "6442               NaN              ALTA              2018-10-16   \n",
       "6443               NaN              ALTA              2018-10-16   \n",
       "\n",
       "     CERTIFICACION CSG  TIPO CERTIFICACION VIGENCIA CERTIFICACION  \n",
       "6439    NO CERTIFICADO     NO ESPECIFICADO                    NaN  \n",
       "6440    NO CERTIFICADO     NO ESPECIFICADO                    NaN  \n",
       "6441    NO CERTIFICADO     NO ESPECIFICADO                    NaN  \n",
       "6442    NO CERTIFICADO     NO ESPECIFICADO                    NaN  \n",
       "6443    NO CERTIFICADO     NO ESPECIFICADO                    NaN  \n",
       "\n",
       "[5 rows x 80 columns]"
      ]
     },
     "execution_count": 12,
     "metadata": {},
     "output_type": "execute_result"
    }
   ],
   "source": [
    "# Filter only hospitals located in Mexico City\n",
    "hospitales_cdmx = catalogo_hospitales.loc[catalogo_hospitales['NOMBRE DE LA ENTIDAD']=='CIUDAD DE MEXICO']\n",
    "hospitales_cdmx.head()"
   ]
  },
  {
   "cell_type": "code",
   "execution_count": 13,
   "metadata": {},
   "outputs": [
    {
     "data": {
      "text/plain": [
       "IZTAPALAPA                400\n",
       "GUSTAVO A. MADERO         314\n",
       "CUAUHTÉMOC                311\n",
       "BENITO JUÁREZ             191\n",
       "ÁLVARO OBREGÓN            166\n",
       "COYOACÁN                  165\n",
       "TLALPAN                   161\n",
       "MIGUEL HIDALGO            146\n",
       "VENUSTIANO CARRANZA       132\n",
       "AZCAPOTZALCO              107\n",
       "XOCHIMILCO                 93\n",
       "IZTACALCO                  85\n",
       "TLÁHUAC                    84\n",
       "LA MAGDALENA CONTRERAS     65\n",
       "CUAJIMALPA DE MORELOS      56\n",
       "MILPA ALTA                 49\n",
       "NO ESPECIFICADO             3\n",
       "Name: NOMBRE DEL MUNICIPIO, dtype: int64"
      ]
     },
     "execution_count": 13,
     "metadata": {},
     "output_type": "execute_result"
    }
   ],
   "source": [
    "# Find list of Municipalities (Delegaciones)\n",
    "hospitales_cdmx['NOMBRE DEL MUNICIPIO'].value_counts()"
   ]
  },
  {
   "cell_type": "code",
   "execution_count": 14,
   "metadata": {},
   "outputs": [
    {
     "data": {
      "text/html": [
       "<div>\n",
       "<style scoped>\n",
       "    .dataframe tbody tr th:only-of-type {\n",
       "        vertical-align: middle;\n",
       "    }\n",
       "\n",
       "    .dataframe tbody tr th {\n",
       "        vertical-align: top;\n",
       "    }\n",
       "\n",
       "    .dataframe thead th {\n",
       "        text-align: right;\n",
       "    }\n",
       "</style>\n",
       "<table border=\"1\" class=\"dataframe\">\n",
       "  <thead>\n",
       "    <tr style=\"text-align: right;\">\n",
       "      <th></th>\n",
       "      <th>CLUES</th>\n",
       "      <th>NOMBRE DEL MUNICIPIO</th>\n",
       "      <th>LONGITUD</th>\n",
       "      <th>LATITUD</th>\n",
       "    </tr>\n",
       "  </thead>\n",
       "  <tbody>\n",
       "    <tr>\n",
       "      <th>6439</th>\n",
       "      <td>DFCIJ000011</td>\n",
       "      <td>VENUSTIANO CARRANZA</td>\n",
       "      <td>-99.0928</td>\n",
       "      <td>19.438437</td>\n",
       "    </tr>\n",
       "    <tr>\n",
       "      <th>6440</th>\n",
       "      <td>DFCIJ000023</td>\n",
       "      <td>CUAUHTÉMOC</td>\n",
       "      <td>-99.1274</td>\n",
       "      <td>19.43732</td>\n",
       "    </tr>\n",
       "    <tr>\n",
       "      <th>6441</th>\n",
       "      <td>DFCIJ000035</td>\n",
       "      <td>CUAJIMALPA DE MORELOS</td>\n",
       "      <td>-99.2929</td>\n",
       "      <td>19.3578</td>\n",
       "    </tr>\n",
       "    <tr>\n",
       "      <th>6442</th>\n",
       "      <td>DFCIJ000040</td>\n",
       "      <td>COYOACÁN</td>\n",
       "      <td>-99.1555</td>\n",
       "      <td>19.357125</td>\n",
       "    </tr>\n",
       "    <tr>\n",
       "      <th>6443</th>\n",
       "      <td>DFCIJ000052</td>\n",
       "      <td>BENITO JUÁREZ</td>\n",
       "      <td>-99.1647</td>\n",
       "      <td>19.397184</td>\n",
       "    </tr>\n",
       "  </tbody>\n",
       "</table>\n",
       "</div>"
      ],
      "text/plain": [
       "            CLUES   NOMBRE DEL MUNICIPIO LONGITUD    LATITUD\n",
       "6439  DFCIJ000011    VENUSTIANO CARRANZA -99.0928  19.438437\n",
       "6440  DFCIJ000023             CUAUHTÉMOC -99.1274   19.43732\n",
       "6441  DFCIJ000035  CUAJIMALPA DE MORELOS -99.2929    19.3578\n",
       "6442  DFCIJ000040               COYOACÁN -99.1555  19.357125\n",
       "6443  DFCIJ000052          BENITO JUÁREZ -99.1647  19.397184"
      ]
     },
     "execution_count": 14,
     "metadata": {},
     "output_type": "execute_result"
    }
   ],
   "source": [
    "# Keep only relevant columns: Municipality and Coordinates\n",
    "hospitales_cdmx = hospitales_cdmx.loc[:,['CLUES','NOMBRE DEL MUNICIPIO','LONGITUD','LATITUD',]]\n",
    "hospitales_cdmx.head()"
   ]
  },
  {
   "cell_type": "markdown",
   "metadata": {},
   "source": [
    "Merge Hospitalizations dataset with CLUES dataset.\n",
    "<br>\n",
    "The resultin Dataframe contains CLUES code, sex, age, disease (respiratory only), year, delegación and coordinates."
   ]
  },
  {
   "cell_type": "code",
   "execution_count": 15,
   "metadata": {},
   "outputs": [
    {
     "data": {
      "text/html": [
       "<div>\n",
       "<style scoped>\n",
       "    .dataframe tbody tr th:only-of-type {\n",
       "        vertical-align: middle;\n",
       "    }\n",
       "\n",
       "    .dataframe tbody tr th {\n",
       "        vertical-align: top;\n",
       "    }\n",
       "\n",
       "    .dataframe thead th {\n",
       "        text-align: right;\n",
       "    }\n",
       "</style>\n",
       "<table border=\"1\" class=\"dataframe\">\n",
       "  <thead>\n",
       "    <tr style=\"text-align: right;\">\n",
       "      <th></th>\n",
       "      <th>CLUES</th>\n",
       "      <th>SEXO</th>\n",
       "      <th>EDAD</th>\n",
       "      <th>AFECPRIN4</th>\n",
       "      <th>YEAR</th>\n",
       "      <th>NOMBRE DEL MUNICIPIO</th>\n",
       "      <th>LONGITUD</th>\n",
       "      <th>LATITUD</th>\n",
       "    </tr>\n",
       "  </thead>\n",
       "  <tbody>\n",
       "    <tr>\n",
       "      <th>0</th>\n",
       "      <td>DFSSA018166</td>\n",
       "      <td>1</td>\n",
       "      <td>4</td>\n",
       "      <td>J180</td>\n",
       "      <td>2010</td>\n",
       "      <td>TLALPAN</td>\n",
       "      <td>-99.2075</td>\n",
       "      <td>19.2718</td>\n",
       "    </tr>\n",
       "    <tr>\n",
       "      <th>1</th>\n",
       "      <td>DFSSA018166</td>\n",
       "      <td>1</td>\n",
       "      <td>0</td>\n",
       "      <td>J180</td>\n",
       "      <td>2010</td>\n",
       "      <td>TLALPAN</td>\n",
       "      <td>-99.2075</td>\n",
       "      <td>19.2718</td>\n",
       "    </tr>\n",
       "    <tr>\n",
       "      <th>2</th>\n",
       "      <td>DFSSA018166</td>\n",
       "      <td>2</td>\n",
       "      <td>2</td>\n",
       "      <td>J189</td>\n",
       "      <td>2010</td>\n",
       "      <td>TLALPAN</td>\n",
       "      <td>-99.2075</td>\n",
       "      <td>19.2718</td>\n",
       "    </tr>\n",
       "    <tr>\n",
       "      <th>3</th>\n",
       "      <td>DFSSA018166</td>\n",
       "      <td>1</td>\n",
       "      <td>2</td>\n",
       "      <td>J180</td>\n",
       "      <td>2010</td>\n",
       "      <td>TLALPAN</td>\n",
       "      <td>-99.2075</td>\n",
       "      <td>19.2718</td>\n",
       "    </tr>\n",
       "    <tr>\n",
       "      <th>4</th>\n",
       "      <td>DFSSA018166</td>\n",
       "      <td>2</td>\n",
       "      <td>59</td>\n",
       "      <td>J90X</td>\n",
       "      <td>2010</td>\n",
       "      <td>TLALPAN</td>\n",
       "      <td>-99.2075</td>\n",
       "      <td>19.2718</td>\n",
       "    </tr>\n",
       "    <tr>\n",
       "      <th>5</th>\n",
       "      <td>DFSSA018166</td>\n",
       "      <td>2</td>\n",
       "      <td>0</td>\n",
       "      <td>J180</td>\n",
       "      <td>2010</td>\n",
       "      <td>TLALPAN</td>\n",
       "      <td>-99.2075</td>\n",
       "      <td>19.2718</td>\n",
       "    </tr>\n",
       "    <tr>\n",
       "      <th>6</th>\n",
       "      <td>DFSSA017886</td>\n",
       "      <td>2</td>\n",
       "      <td>92</td>\n",
       "      <td>J189</td>\n",
       "      <td>2010</td>\n",
       "      <td>ÁLVARO OBREGÓN</td>\n",
       "      <td>-99.2245</td>\n",
       "      <td>19.3614</td>\n",
       "    </tr>\n",
       "    <tr>\n",
       "      <th>7</th>\n",
       "      <td>DFSSA018166</td>\n",
       "      <td>2</td>\n",
       "      <td>24</td>\n",
       "      <td>J180</td>\n",
       "      <td>2010</td>\n",
       "      <td>TLALPAN</td>\n",
       "      <td>-99.2075</td>\n",
       "      <td>19.2718</td>\n",
       "    </tr>\n",
       "    <tr>\n",
       "      <th>8</th>\n",
       "      <td>DFSSA018166</td>\n",
       "      <td>2</td>\n",
       "      <td>1</td>\n",
       "      <td>J180</td>\n",
       "      <td>2010</td>\n",
       "      <td>TLALPAN</td>\n",
       "      <td>-99.2075</td>\n",
       "      <td>19.2718</td>\n",
       "    </tr>\n",
       "    <tr>\n",
       "      <th>9</th>\n",
       "      <td>DFSSA017886</td>\n",
       "      <td>2</td>\n",
       "      <td>37</td>\n",
       "      <td>J189</td>\n",
       "      <td>2010</td>\n",
       "      <td>ÁLVARO OBREGÓN</td>\n",
       "      <td>-99.2245</td>\n",
       "      <td>19.3614</td>\n",
       "    </tr>\n",
       "  </tbody>\n",
       "</table>\n",
       "</div>"
      ],
      "text/plain": [
       "         CLUES  SEXO  EDAD AFECPRIN4  YEAR NOMBRE DEL MUNICIPIO LONGITUD  \\\n",
       "0  DFSSA018166     1     4      J180  2010              TLALPAN -99.2075   \n",
       "1  DFSSA018166     1     0      J180  2010              TLALPAN -99.2075   \n",
       "2  DFSSA018166     2     2      J189  2010              TLALPAN -99.2075   \n",
       "3  DFSSA018166     1     2      J180  2010              TLALPAN -99.2075   \n",
       "4  DFSSA018166     2    59      J90X  2010              TLALPAN -99.2075   \n",
       "5  DFSSA018166     2     0      J180  2010              TLALPAN -99.2075   \n",
       "6  DFSSA017886     2    92      J189  2010       ÁLVARO OBREGÓN -99.2245   \n",
       "7  DFSSA018166     2    24      J180  2010              TLALPAN -99.2075   \n",
       "8  DFSSA018166     2     1      J180  2010              TLALPAN -99.2075   \n",
       "9  DFSSA017886     2    37      J189  2010       ÁLVARO OBREGÓN -99.2245   \n",
       "\n",
       "   LATITUD  \n",
       "0  19.2718  \n",
       "1  19.2718  \n",
       "2  19.2718  \n",
       "3  19.2718  \n",
       "4  19.2718  \n",
       "5  19.2718  \n",
       "6  19.3614  \n",
       "7  19.2718  \n",
       "8  19.2718  \n",
       "9  19.3614  "
      ]
     },
     "execution_count": 15,
     "metadata": {},
     "output_type": "execute_result"
    }
   ],
   "source": [
    "#Merge egresos-cdmx vs. catalogo hospitales\n",
    "egresos_hospital = pd.merge(egresos_resp,hospitales_cdmx,on='CLUES',how='left')\n",
    "\n",
    "egresos_hospital.head(10)"
   ]
  },
  {
   "cell_type": "code",
   "execution_count": 16,
   "metadata": {},
   "outputs": [
    {
     "data": {
      "text/plain": [
       "GUSTAVO A. MADERO         36615\n",
       "IZTAPALAPA                31085\n",
       "CUAUHTÉMOC                28767\n",
       "AZCAPOTZALCO              28363\n",
       "TLALPAN                   25898\n",
       "BENITO JUÁREZ             22623\n",
       "COYOACÁN                  19181\n",
       "ÁLVARO OBREGÓN            15194\n",
       "IZTACALCO                 14101\n",
       "MIGUEL HIDALGO            11217\n",
       "VENUSTIANO CARRANZA        3945\n",
       "XOCHIMILCO                 2357\n",
       "TLÁHUAC                    1922\n",
       "MILPA ALTA                  697\n",
       "CUAJIMALPA DE MORELOS       185\n",
       "LA MAGDALENA CONTRERAS        1\n",
       "Name: NOMBRE DEL MUNICIPIO, dtype: int64"
      ]
     },
     "execution_count": 16,
     "metadata": {},
     "output_type": "execute_result"
    }
   ],
   "source": [
    "egresos_hospital['NOMBRE DEL MUNICIPIO'].value_counts()"
   ]
  },
  {
   "cell_type": "code",
   "execution_count": 17,
   "metadata": {
    "scrolled": true
   },
   "outputs": [
    {
     "data": {
      "text/plain": [
       "(242151, 8)"
      ]
     },
     "execution_count": 17,
     "metadata": {},
     "output_type": "execute_result"
    }
   ],
   "source": [
    "egresos_hospital.shape"
   ]
  },
  {
   "cell_type": "code",
   "execution_count": 18,
   "metadata": {},
   "outputs": [],
   "source": [
    "egresos_hospital.to_csv('../Resources/Egresos_CDMX_respiratorias.csv', header = True, index=False)"
   ]
  },
  {
   "cell_type": "markdown",
   "metadata": {},
   "source": [
    "## Medical Emergencies"
   ]
  },
  {
   "cell_type": "markdown",
   "metadata": {},
   "source": [
    "An analogous process to that of the Respiratory Hospitalizations was followed to clean data for Medical Emergencies. Data was obtained from Secretaría de Salud at: http://www.dgis.salud.gob.mx/contenidos/basesdedatos/da_urgencias_gobmx.htmlmx.html \n",
    "<br>\n",
    "Years considered: 2010 to 2016. \n",
    "\n",
    "Every Dataset contains (among many others) the following information for each individual case:\n",
    "* ID\n",
    "* CLUES: Clave Única de Establecimientos de Salud\n",
    "* Sex of the paitent\n",
    "* Age of the paitent\n",
    "* Main cause of medical attention\n",
    "* Date the patient entered and left the hospital\n",
    "* Type of emergency"
   ]
  },
  {
   "cell_type": "code",
   "execution_count": 19,
   "metadata": {},
   "outputs": [],
   "source": [
    "frames = []"
   ]
  },
  {
   "cell_type": "markdown",
   "metadata": {},
   "source": [
    "Data sets from 2010 to 2014 do not have headers, while datasets from 2015-2016 do. For this reason, datasets were read in two different loops.\n",
    "<br> \n",
    "Before contatenating the dataframes, only relevant columns were selected (CLUES, sex, age, and disease code). <br>\n",
    "<br>\n",
    "Each annual dataset was merged with CLUES dataset used before. CLUES dataset contains only hospitals in Mexico City, therefore it filters only regional hospitals."
   ]
  },
  {
   "cell_type": "code",
   "execution_count": 20,
   "metadata": {},
   "outputs": [
    {
     "name": "stderr",
     "output_type": "stream",
     "text": [
      "C:\\Users\\sandr\\Anaconda3\\lib\\site-packages\\IPython\\core\\interactiveshell.py:3020: DtypeWarning: Columns (1,7,8,13,16) have mixed types. Specify dtype option on import or set low_memory=False.\n",
      "  interactivity=interactivity, compiler=compiler, result=result)\n",
      "C:\\Users\\sandr\\Anaconda3\\lib\\site-packages\\IPython\\core\\interactiveshell.py:3020: DtypeWarning: Columns (9) have mixed types. Specify dtype option on import or set low_memory=False.\n",
      "  interactivity=interactivity, compiler=compiler, result=result)\n"
     ]
    }
   ],
   "source": [
    "# Read Emergencies for years 2015-2016\n",
    "\n",
    "years = ['2016', '2015']\n",
    "\n",
    "for year in years:\n",
    "    csv_path = f'../Resources/Urgencias/Urgencias_{year}/Urgencias_{year}.csv'\n",
    "    aux = pd.read_csv(csv_path)\n",
    "\n",
    "    # Keep only relevant columns\n",
    "    aux[['CLUES', 'SEXO', 'EDAD', 'AFECPRIN','FECHAINGRESO']]\n",
    "    \n",
    "    # Merge with CLUES dataset, to keep only cases in Mexico City\n",
    "    aux = pd.merge(aux,hospitales_cdmx,on='CLUES',how='inner')\n",
    "\n",
    "    frames.append(aux)"
   ]
  },
  {
   "cell_type": "code",
   "execution_count": 21,
   "metadata": {},
   "outputs": [],
   "source": [
    "# Set column names for the next datasets, which do not contain headers.\n",
    "# Column names were obtained from the description of the data, from Secretaría de Salud\n",
    "columns = ['ID','CLUES', 'FOLIO', 'FECHAALTA', 'EDAD', 'CVEEDAD', 'SEXO',\n",
    "       'ENTRESIDENCIA', 'MUNRESIDENCIA', 'DERHAB', 'TIPOURGENCIA', 'MOTATE',\n",
    "       'TIPOCAMA', 'ENVIADOA', 'MP', 'AFECPRIN', 'IRA', 'PLANEDA', 'SOBRESEDA',\n",
    "       'FECHAINGRESO', 'HORASESTANCIA', 'MES_ESTADISTICO', 'HORAINIATE',\n",
    "       'MININIATE', 'HORATERATE', 'MINTERATE']"
   ]
  },
  {
   "cell_type": "code",
   "execution_count": 22,
   "metadata": {},
   "outputs": [],
   "source": [
    "# Create a dictionary to rename the columns on datasets from 2010-2014.\n",
    "myDict = dict(zip(range(26),columns))"
   ]
  },
  {
   "cell_type": "code",
   "execution_count": 23,
   "metadata": {},
   "outputs": [
    {
     "name": "stderr",
     "output_type": "stream",
     "text": [
      "C:\\Users\\sandr\\Anaconda3\\lib\\site-packages\\IPython\\core\\interactiveshell.py:3020: DtypeWarning: Columns (9,17) have mixed types. Specify dtype option on import or set low_memory=False.\n",
      "  interactivity=interactivity, compiler=compiler, result=result)\n",
      "C:\\Users\\sandr\\Anaconda3\\lib\\site-packages\\IPython\\core\\interactiveshell.py:3020: DtypeWarning: Columns (2,9) have mixed types. Specify dtype option on import or set low_memory=False.\n",
      "  interactivity=interactivity, compiler=compiler, result=result)\n",
      "C:\\Users\\sandr\\Anaconda3\\lib\\site-packages\\IPython\\core\\interactiveshell.py:3020: DtypeWarning: Columns (2,8) have mixed types. Specify dtype option on import or set low_memory=False.\n",
      "  interactivity=interactivity, compiler=compiler, result=result)\n"
     ]
    }
   ],
   "source": [
    "# Read Emergencies for years 2010-2014\n",
    "\n",
    "years = ['2014','2013','2012','2011','2010']\n",
    "\n",
    "for year in years:\n",
    "    csv_path = f'../Resources/Urgencias/Urgencias_{year}/Urgencias_{year}.csv'\n",
    "    aux = pd.read_csv(csv_path, sep=\";\", header=None)\n",
    "    \n",
    "    # Rename columns\n",
    "    aux = aux.rename(columns=myDict)\n",
    "    \n",
    "    # Keep only relevant columns\n",
    "    aux = aux[['CLUES', 'SEXO', 'EDAD', 'AFECPRIN','FECHAINGRESO']]\n",
    "    \n",
    "    # Merge with CLUES dataset, to keep only cases in Mexico City\n",
    "    aux = pd.merge(aux,hospitales_cdmx,on='CLUES',how='inner')\n",
    "    \n",
    "    frames.append(aux)"
   ]
  },
  {
   "cell_type": "code",
   "execution_count": 24,
   "metadata": {},
   "outputs": [
    {
     "name": "stderr",
     "output_type": "stream",
     "text": [
      "C:\\Users\\sandr\\Anaconda3\\lib\\site-packages\\ipykernel_launcher.py:2: FutureWarning: Sorting because non-concatenation axis is not aligned. A future version\n",
      "of pandas will change to not sort by default.\n",
      "\n",
      "To accept the future behavior, pass 'sort=False'.\n",
      "\n",
      "To retain the current behavior and silence the warning, pass 'sort=True'.\n",
      "\n",
      "  \n"
     ]
    }
   ],
   "source": [
    "# Concatenate dataframes\n",
    "urgencias = pd.concat(frames).reset_index(drop=True)"
   ]
  },
  {
   "cell_type": "code",
   "execution_count": 25,
   "metadata": {},
   "outputs": [
    {
     "data": {
      "text/html": [
       "<div>\n",
       "<style scoped>\n",
       "    .dataframe tbody tr th:only-of-type {\n",
       "        vertical-align: middle;\n",
       "    }\n",
       "\n",
       "    .dataframe tbody tr th {\n",
       "        vertical-align: top;\n",
       "    }\n",
       "\n",
       "    .dataframe thead th {\n",
       "        text-align: right;\n",
       "    }\n",
       "</style>\n",
       "<table border=\"1\" class=\"dataframe\">\n",
       "  <thead>\n",
       "    <tr style=\"text-align: right;\">\n",
       "      <th></th>\n",
       "      <th>AFECPRIN</th>\n",
       "      <th>CLUES</th>\n",
       "      <th>CVEEDAD</th>\n",
       "      <th>DERHAB</th>\n",
       "      <th>EDAD</th>\n",
       "      <th>ENTRESIDENCIA</th>\n",
       "      <th>ENVIADOA</th>\n",
       "      <th>FECHAALTA</th>\n",
       "      <th>FECHAINGRESO</th>\n",
       "      <th>FOLIO</th>\n",
       "      <th>...</th>\n",
       "      <th>MINTERATE</th>\n",
       "      <th>MOTATE</th>\n",
       "      <th>MP</th>\n",
       "      <th>MUNRESIDENCIA</th>\n",
       "      <th>NOMBRE DEL MUNICIPIO</th>\n",
       "      <th>PLANEDA</th>\n",
       "      <th>SEXO</th>\n",
       "      <th>SOBRESEDA</th>\n",
       "      <th>TIPOCAMA</th>\n",
       "      <th>TIPOURGENCIA</th>\n",
       "    </tr>\n",
       "  </thead>\n",
       "  <tbody>\n",
       "    <tr>\n",
       "      <th>0</th>\n",
       "      <td>R104</td>\n",
       "      <td>DFSSA000053</td>\n",
       "      <td>3.0</td>\n",
       "      <td>0</td>\n",
       "      <td>7.0</td>\n",
       "      <td>9.0</td>\n",
       "      <td>4.0</td>\n",
       "      <td>3/21/2016</td>\n",
       "      <td>3/21/2016</td>\n",
       "      <td>2872</td>\n",
       "      <td>...</td>\n",
       "      <td>58.0</td>\n",
       "      <td>4.0</td>\n",
       "      <td>NaN</td>\n",
       "      <td>2</td>\n",
       "      <td>AZCAPOTZALCO</td>\n",
       "      <td>NaN</td>\n",
       "      <td>1.0</td>\n",
       "      <td>0.0</td>\n",
       "      <td>3.0</td>\n",
       "      <td>2.0</td>\n",
       "    </tr>\n",
       "    <tr>\n",
       "      <th>1</th>\n",
       "      <td>S099</td>\n",
       "      <td>DFSSA000053</td>\n",
       "      <td>3.0</td>\n",
       "      <td>0</td>\n",
       "      <td>1.0</td>\n",
       "      <td>9.0</td>\n",
       "      <td>4.0</td>\n",
       "      <td>3/21/2016</td>\n",
       "      <td>3/21/2016</td>\n",
       "      <td>2876</td>\n",
       "      <td>...</td>\n",
       "      <td>35.0</td>\n",
       "      <td>1.0</td>\n",
       "      <td>NaN</td>\n",
       "      <td>2</td>\n",
       "      <td>AZCAPOTZALCO</td>\n",
       "      <td>NaN</td>\n",
       "      <td>2.0</td>\n",
       "      <td>0.0</td>\n",
       "      <td>3.0</td>\n",
       "      <td>1.0</td>\n",
       "    </tr>\n",
       "    <tr>\n",
       "      <th>2</th>\n",
       "      <td>J00X</td>\n",
       "      <td>DFSSA000053</td>\n",
       "      <td>3.0</td>\n",
       "      <td>0</td>\n",
       "      <td>10.0</td>\n",
       "      <td>9.0</td>\n",
       "      <td>4.0</td>\n",
       "      <td>3/21/2016</td>\n",
       "      <td>3/21/2016</td>\n",
       "      <td>2882</td>\n",
       "      <td>...</td>\n",
       "      <td>0.0</td>\n",
       "      <td>4.0</td>\n",
       "      <td>NaN</td>\n",
       "      <td>2</td>\n",
       "      <td>AZCAPOTZALCO</td>\n",
       "      <td>NaN</td>\n",
       "      <td>2.0</td>\n",
       "      <td>0.0</td>\n",
       "      <td>3.0</td>\n",
       "      <td>2.0</td>\n",
       "    </tr>\n",
       "    <tr>\n",
       "      <th>3</th>\n",
       "      <td>J028</td>\n",
       "      <td>DFSSA000053</td>\n",
       "      <td>3.0</td>\n",
       "      <td>0</td>\n",
       "      <td>5.0</td>\n",
       "      <td>9.0</td>\n",
       "      <td>4.0</td>\n",
       "      <td>3/21/2016</td>\n",
       "      <td>3/21/2016</td>\n",
       "      <td>2883</td>\n",
       "      <td>...</td>\n",
       "      <td>50.0</td>\n",
       "      <td>4.0</td>\n",
       "      <td>NaN</td>\n",
       "      <td>2</td>\n",
       "      <td>AZCAPOTZALCO</td>\n",
       "      <td>NaN</td>\n",
       "      <td>2.0</td>\n",
       "      <td>0.0</td>\n",
       "      <td>3.0</td>\n",
       "      <td>2.0</td>\n",
       "    </tr>\n",
       "    <tr>\n",
       "      <th>4</th>\n",
       "      <td>J00X</td>\n",
       "      <td>DFSSA000053</td>\n",
       "      <td>3.0</td>\n",
       "      <td>0</td>\n",
       "      <td>1.0</td>\n",
       "      <td>9.0</td>\n",
       "      <td>4.0</td>\n",
       "      <td>3/23/2016</td>\n",
       "      <td>3/23/2016</td>\n",
       "      <td>2948</td>\n",
       "      <td>...</td>\n",
       "      <td>20.0</td>\n",
       "      <td>4.0</td>\n",
       "      <td>NaN</td>\n",
       "      <td>2</td>\n",
       "      <td>AZCAPOTZALCO</td>\n",
       "      <td>NaN</td>\n",
       "      <td>1.0</td>\n",
       "      <td>0.0</td>\n",
       "      <td>3.0</td>\n",
       "      <td>2.0</td>\n",
       "    </tr>\n",
       "  </tbody>\n",
       "</table>\n",
       "<p>5 rows × 29 columns</p>\n",
       "</div>"
      ],
      "text/plain": [
       "  AFECPRIN        CLUES  CVEEDAD DERHAB  EDAD  ENTRESIDENCIA  ENVIADOA  \\\n",
       "0     R104  DFSSA000053      3.0      0   7.0            9.0       4.0   \n",
       "1     S099  DFSSA000053      3.0      0   1.0            9.0       4.0   \n",
       "2     J00X  DFSSA000053      3.0      0  10.0            9.0       4.0   \n",
       "3     J028  DFSSA000053      3.0      0   5.0            9.0       4.0   \n",
       "4     J00X  DFSSA000053      3.0      0   1.0            9.0       4.0   \n",
       "\n",
       "   FECHAALTA FECHAINGRESO FOLIO      ...       MINTERATE  MOTATE   MP  \\\n",
       "0  3/21/2016    3/21/2016  2872      ...            58.0     4.0  NaN   \n",
       "1  3/21/2016    3/21/2016  2876      ...            35.0     1.0  NaN   \n",
       "2  3/21/2016    3/21/2016  2882      ...             0.0     4.0  NaN   \n",
       "3  3/21/2016    3/21/2016  2883      ...            50.0     4.0  NaN   \n",
       "4  3/23/2016    3/23/2016  2948      ...            20.0     4.0  NaN   \n",
       "\n",
       "   MUNRESIDENCIA  NOMBRE DEL MUNICIPIO PLANEDA SEXO  SOBRESEDA  TIPOCAMA  \\\n",
       "0              2          AZCAPOTZALCO     NaN  1.0        0.0       3.0   \n",
       "1              2          AZCAPOTZALCO     NaN  2.0        0.0       3.0   \n",
       "2              2          AZCAPOTZALCO     NaN  2.0        0.0       3.0   \n",
       "3              2          AZCAPOTZALCO     NaN  2.0        0.0       3.0   \n",
       "4              2          AZCAPOTZALCO     NaN  1.0        0.0       3.0   \n",
       "\n",
       "   TIPOURGENCIA  \n",
       "0           2.0  \n",
       "1           1.0  \n",
       "2           2.0  \n",
       "3           2.0  \n",
       "4           2.0  \n",
       "\n",
       "[5 rows x 29 columns]"
      ]
     },
     "execution_count": 25,
     "metadata": {},
     "output_type": "execute_result"
    }
   ],
   "source": [
    "urgencias.head()"
   ]
  },
  {
   "cell_type": "code",
   "execution_count": 26,
   "metadata": {},
   "outputs": [
    {
     "data": {
      "text/html": [
       "<div>\n",
       "<style scoped>\n",
       "    .dataframe tbody tr th:only-of-type {\n",
       "        vertical-align: middle;\n",
       "    }\n",
       "\n",
       "    .dataframe tbody tr th {\n",
       "        vertical-align: top;\n",
       "    }\n",
       "\n",
       "    .dataframe thead th {\n",
       "        text-align: right;\n",
       "    }\n",
       "</style>\n",
       "<table border=\"1\" class=\"dataframe\">\n",
       "  <thead>\n",
       "    <tr style=\"text-align: right;\">\n",
       "      <th></th>\n",
       "      <th>CLUES</th>\n",
       "      <th>SEXO</th>\n",
       "      <th>EDAD</th>\n",
       "      <th>AFECPRIN</th>\n",
       "      <th>FECHAINGRESO</th>\n",
       "      <th>NOMBRE DEL MUNICIPIO</th>\n",
       "      <th>LATITUD</th>\n",
       "      <th>LONGITUD</th>\n",
       "    </tr>\n",
       "  </thead>\n",
       "  <tbody>\n",
       "    <tr>\n",
       "      <th>0</th>\n",
       "      <td>DFSSA000053</td>\n",
       "      <td>1.0</td>\n",
       "      <td>7.0</td>\n",
       "      <td>R104</td>\n",
       "      <td>3/21/2016</td>\n",
       "      <td>AZCAPOTZALCO</td>\n",
       "      <td>19.4845</td>\n",
       "      <td>-99.1855</td>\n",
       "    </tr>\n",
       "    <tr>\n",
       "      <th>1</th>\n",
       "      <td>DFSSA000053</td>\n",
       "      <td>2.0</td>\n",
       "      <td>1.0</td>\n",
       "      <td>S099</td>\n",
       "      <td>3/21/2016</td>\n",
       "      <td>AZCAPOTZALCO</td>\n",
       "      <td>19.4845</td>\n",
       "      <td>-99.1855</td>\n",
       "    </tr>\n",
       "    <tr>\n",
       "      <th>2</th>\n",
       "      <td>DFSSA000053</td>\n",
       "      <td>2.0</td>\n",
       "      <td>10.0</td>\n",
       "      <td>J00X</td>\n",
       "      <td>3/21/2016</td>\n",
       "      <td>AZCAPOTZALCO</td>\n",
       "      <td>19.4845</td>\n",
       "      <td>-99.1855</td>\n",
       "    </tr>\n",
       "    <tr>\n",
       "      <th>3</th>\n",
       "      <td>DFSSA000053</td>\n",
       "      <td>2.0</td>\n",
       "      <td>5.0</td>\n",
       "      <td>J028</td>\n",
       "      <td>3/21/2016</td>\n",
       "      <td>AZCAPOTZALCO</td>\n",
       "      <td>19.4845</td>\n",
       "      <td>-99.1855</td>\n",
       "    </tr>\n",
       "    <tr>\n",
       "      <th>4</th>\n",
       "      <td>DFSSA000053</td>\n",
       "      <td>1.0</td>\n",
       "      <td>1.0</td>\n",
       "      <td>J00X</td>\n",
       "      <td>3/23/2016</td>\n",
       "      <td>AZCAPOTZALCO</td>\n",
       "      <td>19.4845</td>\n",
       "      <td>-99.1855</td>\n",
       "    </tr>\n",
       "  </tbody>\n",
       "</table>\n",
       "</div>"
      ],
      "text/plain": [
       "         CLUES  SEXO  EDAD AFECPRIN FECHAINGRESO NOMBRE DEL MUNICIPIO  \\\n",
       "0  DFSSA000053   1.0   7.0     R104    3/21/2016         AZCAPOTZALCO   \n",
       "1  DFSSA000053   2.0   1.0     S099    3/21/2016         AZCAPOTZALCO   \n",
       "2  DFSSA000053   2.0  10.0     J00X    3/21/2016         AZCAPOTZALCO   \n",
       "3  DFSSA000053   2.0   5.0     J028    3/21/2016         AZCAPOTZALCO   \n",
       "4  DFSSA000053   1.0   1.0     J00X    3/23/2016         AZCAPOTZALCO   \n",
       "\n",
       "   LATITUD LONGITUD  \n",
       "0  19.4845 -99.1855  \n",
       "1  19.4845 -99.1855  \n",
       "2  19.4845 -99.1855  \n",
       "3  19.4845 -99.1855  \n",
       "4  19.4845 -99.1855  "
      ]
     },
     "execution_count": 26,
     "metadata": {},
     "output_type": "execute_result"
    }
   ],
   "source": [
    "# Keep only relevant columns\n",
    "urgencias=urgencias[['CLUES', 'SEXO', 'EDAD', 'AFECPRIN','FECHAINGRESO', 'NOMBRE DEL MUNICIPIO', 'LATITUD', 'LONGITUD']]\n",
    "urgencias.head()"
   ]
  },
  {
   "cell_type": "code",
   "execution_count": 27,
   "metadata": {},
   "outputs": [
    {
     "name": "stdout",
     "output_type": "stream",
     "text": [
      "<class 'pandas.core.frame.DataFrame'>\n",
      "RangeIndex: 6339173 entries, 0 to 6339172\n",
      "Data columns (total 8 columns):\n",
      "CLUES                   object\n",
      "SEXO                    float64\n",
      "EDAD                    float64\n",
      "AFECPRIN                object\n",
      "FECHAINGRESO            object\n",
      "NOMBRE DEL MUNICIPIO    object\n",
      "LATITUD                 object\n",
      "LONGITUD                object\n",
      "dtypes: float64(2), object(6)\n",
      "memory usage: 386.9+ MB\n"
     ]
    }
   ],
   "source": [
    "urgencias.info()"
   ]
  },
  {
   "cell_type": "code",
   "execution_count": 28,
   "metadata": {},
   "outputs": [
    {
     "data": {
      "text/plain": [
       "(6339173, 8)"
      ]
     },
     "execution_count": 28,
     "metadata": {},
     "output_type": "execute_result"
    }
   ],
   "source": [
    "urgencias.shape"
   ]
  },
  {
   "cell_type": "code",
   "execution_count": 29,
   "metadata": {},
   "outputs": [
    {
     "data": {
      "text/plain": [
       "CLUES                   6339173\n",
       "SEXO                    6339173\n",
       "EDAD                    6339173\n",
       "AFECPRIN                4993344\n",
       "FECHAINGRESO            6315988\n",
       "NOMBRE DEL MUNICIPIO    6339173\n",
       "LATITUD                 6339173\n",
       "LONGITUD                6339173\n",
       "dtype: int64"
      ]
     },
     "execution_count": 29,
     "metadata": {},
     "output_type": "execute_result"
    }
   ],
   "source": [
    "urgencias.count()"
   ]
  },
  {
   "cell_type": "markdown",
   "metadata": {},
   "source": [
    "### Filter only respiratory diseases\n",
    "As mentioned in previous section, the column \"AFECPRIN\" corresponds to the disease code given by the International Classification of Diseases, a classification system developed by the World Health Organization. More details can be found at http://www.cie10.org/ <br>\n",
    "<br>\n",
    "In this classification, all respiratory diseases start with the letter \"J\". Dataset was filtered to contain only data on respiratory diseases."
   ]
  },
  {
   "cell_type": "code",
   "execution_count": 30,
   "metadata": {},
   "outputs": [
    {
     "data": {
      "text/html": [
       "<div>\n",
       "<style scoped>\n",
       "    .dataframe tbody tr th:only-of-type {\n",
       "        vertical-align: middle;\n",
       "    }\n",
       "\n",
       "    .dataframe tbody tr th {\n",
       "        vertical-align: top;\n",
       "    }\n",
       "\n",
       "    .dataframe thead th {\n",
       "        text-align: right;\n",
       "    }\n",
       "</style>\n",
       "<table border=\"1\" class=\"dataframe\">\n",
       "  <thead>\n",
       "    <tr style=\"text-align: right;\">\n",
       "      <th></th>\n",
       "      <th>CLUES</th>\n",
       "      <th>SEXO</th>\n",
       "      <th>EDAD</th>\n",
       "      <th>AFECPRIN</th>\n",
       "      <th>FECHAINGRESO</th>\n",
       "      <th>NOMBRE DEL MUNICIPIO</th>\n",
       "      <th>LATITUD</th>\n",
       "      <th>LONGITUD</th>\n",
       "    </tr>\n",
       "  </thead>\n",
       "  <tbody>\n",
       "    <tr>\n",
       "      <th>2</th>\n",
       "      <td>DFSSA000053</td>\n",
       "      <td>2.0</td>\n",
       "      <td>10.0</td>\n",
       "      <td>J00X</td>\n",
       "      <td>3/21/2016</td>\n",
       "      <td>AZCAPOTZALCO</td>\n",
       "      <td>19.4845</td>\n",
       "      <td>-99.1855</td>\n",
       "    </tr>\n",
       "    <tr>\n",
       "      <th>3</th>\n",
       "      <td>DFSSA000053</td>\n",
       "      <td>2.0</td>\n",
       "      <td>5.0</td>\n",
       "      <td>J028</td>\n",
       "      <td>3/21/2016</td>\n",
       "      <td>AZCAPOTZALCO</td>\n",
       "      <td>19.4845</td>\n",
       "      <td>-99.1855</td>\n",
       "    </tr>\n",
       "    <tr>\n",
       "      <th>4</th>\n",
       "      <td>DFSSA000053</td>\n",
       "      <td>1.0</td>\n",
       "      <td>1.0</td>\n",
       "      <td>J00X</td>\n",
       "      <td>3/23/2016</td>\n",
       "      <td>AZCAPOTZALCO</td>\n",
       "      <td>19.4845</td>\n",
       "      <td>-99.1855</td>\n",
       "    </tr>\n",
       "    <tr>\n",
       "      <th>5</th>\n",
       "      <td>DFSSA000053</td>\n",
       "      <td>1.0</td>\n",
       "      <td>1.0</td>\n",
       "      <td>J459</td>\n",
       "      <td>11/21/2016</td>\n",
       "      <td>AZCAPOTZALCO</td>\n",
       "      <td>19.4845</td>\n",
       "      <td>-99.1855</td>\n",
       "    </tr>\n",
       "    <tr>\n",
       "      <th>7</th>\n",
       "      <td>DFSSA000053</td>\n",
       "      <td>2.0</td>\n",
       "      <td>4.0</td>\n",
       "      <td>J028</td>\n",
       "      <td>3/22/2016</td>\n",
       "      <td>AZCAPOTZALCO</td>\n",
       "      <td>19.4845</td>\n",
       "      <td>-99.1855</td>\n",
       "    </tr>\n",
       "    <tr>\n",
       "      <th>8</th>\n",
       "      <td>DFSSA000053</td>\n",
       "      <td>2.0</td>\n",
       "      <td>13.0</td>\n",
       "      <td>J00X</td>\n",
       "      <td>3/21/2016</td>\n",
       "      <td>AZCAPOTZALCO</td>\n",
       "      <td>19.4845</td>\n",
       "      <td>-99.1855</td>\n",
       "    </tr>\n",
       "    <tr>\n",
       "      <th>9</th>\n",
       "      <td>DFSSA000053</td>\n",
       "      <td>1.0</td>\n",
       "      <td>1.0</td>\n",
       "      <td>J028</td>\n",
       "      <td>3/22/2016</td>\n",
       "      <td>AZCAPOTZALCO</td>\n",
       "      <td>19.4845</td>\n",
       "      <td>-99.1855</td>\n",
       "    </tr>\n",
       "    <tr>\n",
       "      <th>11</th>\n",
       "      <td>DFSSA000053</td>\n",
       "      <td>2.0</td>\n",
       "      <td>12.0</td>\n",
       "      <td>J029</td>\n",
       "      <td>6/13/2016</td>\n",
       "      <td>AZCAPOTZALCO</td>\n",
       "      <td>19.4845</td>\n",
       "      <td>-99.1855</td>\n",
       "    </tr>\n",
       "    <tr>\n",
       "      <th>16</th>\n",
       "      <td>DFSSA000053</td>\n",
       "      <td>1.0</td>\n",
       "      <td>2.0</td>\n",
       "      <td>J042</td>\n",
       "      <td>12/26/2015</td>\n",
       "      <td>AZCAPOTZALCO</td>\n",
       "      <td>19.4845</td>\n",
       "      <td>-99.1855</td>\n",
       "    </tr>\n",
       "    <tr>\n",
       "      <th>17</th>\n",
       "      <td>DFSSA000053</td>\n",
       "      <td>1.0</td>\n",
       "      <td>1.0</td>\n",
       "      <td>J068</td>\n",
       "      <td>1/1/2017</td>\n",
       "      <td>AZCAPOTZALCO</td>\n",
       "      <td>19.4845</td>\n",
       "      <td>-99.1855</td>\n",
       "    </tr>\n",
       "  </tbody>\n",
       "</table>\n",
       "</div>"
      ],
      "text/plain": [
       "          CLUES  SEXO  EDAD AFECPRIN FECHAINGRESO NOMBRE DEL MUNICIPIO  \\\n",
       "2   DFSSA000053   2.0  10.0     J00X    3/21/2016         AZCAPOTZALCO   \n",
       "3   DFSSA000053   2.0   5.0     J028    3/21/2016         AZCAPOTZALCO   \n",
       "4   DFSSA000053   1.0   1.0     J00X    3/23/2016         AZCAPOTZALCO   \n",
       "5   DFSSA000053   1.0   1.0     J459   11/21/2016         AZCAPOTZALCO   \n",
       "7   DFSSA000053   2.0   4.0     J028    3/22/2016         AZCAPOTZALCO   \n",
       "8   DFSSA000053   2.0  13.0     J00X    3/21/2016         AZCAPOTZALCO   \n",
       "9   DFSSA000053   1.0   1.0     J028    3/22/2016         AZCAPOTZALCO   \n",
       "11  DFSSA000053   2.0  12.0     J029    6/13/2016         AZCAPOTZALCO   \n",
       "16  DFSSA000053   1.0   2.0     J042   12/26/2015         AZCAPOTZALCO   \n",
       "17  DFSSA000053   1.0   1.0     J068     1/1/2017         AZCAPOTZALCO   \n",
       "\n",
       "    LATITUD LONGITUD  \n",
       "2   19.4845 -99.1855  \n",
       "3   19.4845 -99.1855  \n",
       "4   19.4845 -99.1855  \n",
       "5   19.4845 -99.1855  \n",
       "7   19.4845 -99.1855  \n",
       "8   19.4845 -99.1855  \n",
       "9   19.4845 -99.1855  \n",
       "11  19.4845 -99.1855  \n",
       "16  19.4845 -99.1855  \n",
       "17  19.4845 -99.1855  "
      ]
     },
     "execution_count": 30,
     "metadata": {},
     "output_type": "execute_result"
    }
   ],
   "source": [
    "urgencias_resp = urgencias.loc[urgencias[\"AFECPRIN\"].str.startswith(\"J\")==True]\n",
    "urgencias_resp.head(10)"
   ]
  },
  {
   "cell_type": "code",
   "execution_count": 31,
   "metadata": {},
   "outputs": [
    {
     "data": {
      "text/plain": [
       "222"
      ]
     },
     "execution_count": 31,
     "metadata": {},
     "output_type": "execute_result"
    }
   ],
   "source": [
    "urgencias_resp[\"AFECPRIN\"].nunique()"
   ]
  },
  {
   "cell_type": "code",
   "execution_count": 32,
   "metadata": {},
   "outputs": [
    {
     "data": {
      "text/plain": [
       "(649702, 8)"
      ]
     },
     "execution_count": 32,
     "metadata": {},
     "output_type": "execute_result"
    }
   ],
   "source": [
    "urgencias_resp.shape"
   ]
  },
  {
   "cell_type": "code",
   "execution_count": 33,
   "metadata": {},
   "outputs": [
    {
     "name": "stdout",
     "output_type": "stream",
     "text": [
      "<class 'pandas.core.frame.DataFrame'>\n",
      "Int64Index: 649702 entries, 2 to 4868062\n",
      "Data columns (total 8 columns):\n",
      "CLUES                   649702 non-null object\n",
      "SEXO                    649702 non-null float64\n",
      "EDAD                    649702 non-null float64\n",
      "AFECPRIN                649702 non-null object\n",
      "FECHAINGRESO            649386 non-null object\n",
      "NOMBRE DEL MUNICIPIO    649702 non-null object\n",
      "LATITUD                 649702 non-null object\n",
      "LONGITUD                649702 non-null object\n",
      "dtypes: float64(2), object(6)\n",
      "memory usage: 44.6+ MB\n"
     ]
    }
   ],
   "source": [
    "urgencias_resp.info()"
   ]
  },
  {
   "cell_type": "code",
   "execution_count": 34,
   "metadata": {},
   "outputs": [
    {
     "data": {
      "text/html": [
       "<div>\n",
       "<style scoped>\n",
       "    .dataframe tbody tr th:only-of-type {\n",
       "        vertical-align: middle;\n",
       "    }\n",
       "\n",
       "    .dataframe tbody tr th {\n",
       "        vertical-align: top;\n",
       "    }\n",
       "\n",
       "    .dataframe thead th {\n",
       "        text-align: right;\n",
       "    }\n",
       "</style>\n",
       "<table border=\"1\" class=\"dataframe\">\n",
       "  <thead>\n",
       "    <tr style=\"text-align: right;\">\n",
       "      <th></th>\n",
       "      <th>CLUES</th>\n",
       "      <th>SEXO</th>\n",
       "      <th>EDAD</th>\n",
       "      <th>AFECPRIN</th>\n",
       "      <th>FECHAINGRESO</th>\n",
       "      <th>NOMBRE DEL MUNICIPIO</th>\n",
       "      <th>LATITUD</th>\n",
       "      <th>LONGITUD</th>\n",
       "    </tr>\n",
       "  </thead>\n",
       "  <tbody>\n",
       "    <tr>\n",
       "      <th>2</th>\n",
       "      <td>DFSSA000053</td>\n",
       "      <td>2.0</td>\n",
       "      <td>10.0</td>\n",
       "      <td>J00X</td>\n",
       "      <td>3/21/2016</td>\n",
       "      <td>AZCAPOTZALCO</td>\n",
       "      <td>19.4845</td>\n",
       "      <td>-99.1855</td>\n",
       "    </tr>\n",
       "    <tr>\n",
       "      <th>3</th>\n",
       "      <td>DFSSA000053</td>\n",
       "      <td>2.0</td>\n",
       "      <td>5.0</td>\n",
       "      <td>J028</td>\n",
       "      <td>3/21/2016</td>\n",
       "      <td>AZCAPOTZALCO</td>\n",
       "      <td>19.4845</td>\n",
       "      <td>-99.1855</td>\n",
       "    </tr>\n",
       "    <tr>\n",
       "      <th>4</th>\n",
       "      <td>DFSSA000053</td>\n",
       "      <td>1.0</td>\n",
       "      <td>1.0</td>\n",
       "      <td>J00X</td>\n",
       "      <td>3/23/2016</td>\n",
       "      <td>AZCAPOTZALCO</td>\n",
       "      <td>19.4845</td>\n",
       "      <td>-99.1855</td>\n",
       "    </tr>\n",
       "    <tr>\n",
       "      <th>5</th>\n",
       "      <td>DFSSA000053</td>\n",
       "      <td>1.0</td>\n",
       "      <td>1.0</td>\n",
       "      <td>J459</td>\n",
       "      <td>11/21/2016</td>\n",
       "      <td>AZCAPOTZALCO</td>\n",
       "      <td>19.4845</td>\n",
       "      <td>-99.1855</td>\n",
       "    </tr>\n",
       "    <tr>\n",
       "      <th>7</th>\n",
       "      <td>DFSSA000053</td>\n",
       "      <td>2.0</td>\n",
       "      <td>4.0</td>\n",
       "      <td>J028</td>\n",
       "      <td>3/22/2016</td>\n",
       "      <td>AZCAPOTZALCO</td>\n",
       "      <td>19.4845</td>\n",
       "      <td>-99.1855</td>\n",
       "    </tr>\n",
       "  </tbody>\n",
       "</table>\n",
       "</div>"
      ],
      "text/plain": [
       "         CLUES  SEXO  EDAD AFECPRIN FECHAINGRESO NOMBRE DEL MUNICIPIO  \\\n",
       "2  DFSSA000053   2.0  10.0     J00X    3/21/2016         AZCAPOTZALCO   \n",
       "3  DFSSA000053   2.0   5.0     J028    3/21/2016         AZCAPOTZALCO   \n",
       "4  DFSSA000053   1.0   1.0     J00X    3/23/2016         AZCAPOTZALCO   \n",
       "5  DFSSA000053   1.0   1.0     J459   11/21/2016         AZCAPOTZALCO   \n",
       "7  DFSSA000053   2.0   4.0     J028    3/22/2016         AZCAPOTZALCO   \n",
       "\n",
       "   LATITUD LONGITUD  \n",
       "2  19.4845 -99.1855  \n",
       "3  19.4845 -99.1855  \n",
       "4  19.4845 -99.1855  \n",
       "5  19.4845 -99.1855  \n",
       "7  19.4845 -99.1855  "
      ]
     },
     "execution_count": 34,
     "metadata": {},
     "output_type": "execute_result"
    }
   ],
   "source": [
    "urgencias_resp.dropna(how='any')\n",
    "urgencias_resp.head()"
   ]
  },
  {
   "cell_type": "code",
   "execution_count": 35,
   "metadata": {},
   "outputs": [
    {
     "data": {
      "text/plain": [
       "222"
      ]
     },
     "execution_count": 35,
     "metadata": {},
     "output_type": "execute_result"
    }
   ],
   "source": [
    "urgencias_resp['AFECPRIN'].nunique()"
   ]
  },
  {
   "cell_type": "code",
   "execution_count": 36,
   "metadata": {},
   "outputs": [
    {
     "data": {
      "text/plain": [
       "GUSTAVO A. MADERO         107782\n",
       "IZTAPALAPA                 81406\n",
       "CUAUHTÉMOC                 78136\n",
       "TLALPAN                    56784\n",
       "MIGUEL HIDALGO             55500\n",
       "AZCAPOTZALCO               51487\n",
       "IZTACALCO                  50647\n",
       "VENUSTIANO CARRANZA        45524\n",
       "XOCHIMILCO                 33941\n",
       "COYOACÁN                   27989\n",
       "TLÁHUAC                    27259\n",
       "ÁLVARO OBREGÓN             12696\n",
       "MILPA ALTA                  9774\n",
       "BENITO JUÁREZ               5260\n",
       "LA MAGDALENA CONTRERAS      4646\n",
       "CUAJIMALPA DE MORELOS        871\n",
       "Name: NOMBRE DEL MUNICIPIO, dtype: int64"
      ]
     },
     "execution_count": 36,
     "metadata": {},
     "output_type": "execute_result"
    }
   ],
   "source": [
    "urgencias_resp['NOMBRE DEL MUNICIPIO'].value_counts()"
   ]
  },
  {
   "cell_type": "code",
   "execution_count": 37,
   "metadata": {},
   "outputs": [],
   "source": [
    "urgencias_resp.to_csv('../Resources/Urgencias_CDMX_respiratorias.csv', header = True, index=False)"
   ]
  },
  {
   "cell_type": "code",
   "execution_count": 38,
   "metadata": {},
   "outputs": [
    {
     "data": {
      "text/html": [
       "<div>\n",
       "<style scoped>\n",
       "    .dataframe tbody tr th:only-of-type {\n",
       "        vertical-align: middle;\n",
       "    }\n",
       "\n",
       "    .dataframe tbody tr th {\n",
       "        vertical-align: top;\n",
       "    }\n",
       "\n",
       "    .dataframe thead th {\n",
       "        text-align: right;\n",
       "    }\n",
       "</style>\n",
       "<table border=\"1\" class=\"dataframe\">\n",
       "  <thead>\n",
       "    <tr style=\"text-align: right;\">\n",
       "      <th></th>\n",
       "      <th>CLUES</th>\n",
       "      <th>SEXO</th>\n",
       "      <th>EDAD</th>\n",
       "      <th>AFECPRIN</th>\n",
       "      <th>FECHAINGRESO</th>\n",
       "      <th>NOMBRE DEL MUNICIPIO</th>\n",
       "      <th>LATITUD</th>\n",
       "      <th>LONGITUD</th>\n",
       "    </tr>\n",
       "  </thead>\n",
       "  <tbody>\n",
       "    <tr>\n",
       "      <th>0</th>\n",
       "      <td>DFSSA000053</td>\n",
       "      <td>2.0</td>\n",
       "      <td>10.0</td>\n",
       "      <td>J00X</td>\n",
       "      <td>3/21/2016</td>\n",
       "      <td>AZCAPOTZALCO</td>\n",
       "      <td>19.484515</td>\n",
       "      <td>-99.185456</td>\n",
       "    </tr>\n",
       "    <tr>\n",
       "      <th>1</th>\n",
       "      <td>DFSSA000053</td>\n",
       "      <td>2.0</td>\n",
       "      <td>5.0</td>\n",
       "      <td>J028</td>\n",
       "      <td>3/21/2016</td>\n",
       "      <td>AZCAPOTZALCO</td>\n",
       "      <td>19.484515</td>\n",
       "      <td>-99.185456</td>\n",
       "    </tr>\n",
       "    <tr>\n",
       "      <th>2</th>\n",
       "      <td>DFSSA000053</td>\n",
       "      <td>1.0</td>\n",
       "      <td>1.0</td>\n",
       "      <td>J00X</td>\n",
       "      <td>3/23/2016</td>\n",
       "      <td>AZCAPOTZALCO</td>\n",
       "      <td>19.484515</td>\n",
       "      <td>-99.185456</td>\n",
       "    </tr>\n",
       "    <tr>\n",
       "      <th>3</th>\n",
       "      <td>DFSSA000053</td>\n",
       "      <td>1.0</td>\n",
       "      <td>1.0</td>\n",
       "      <td>J459</td>\n",
       "      <td>11/21/2016</td>\n",
       "      <td>AZCAPOTZALCO</td>\n",
       "      <td>19.484515</td>\n",
       "      <td>-99.185456</td>\n",
       "    </tr>\n",
       "    <tr>\n",
       "      <th>4</th>\n",
       "      <td>DFSSA000053</td>\n",
       "      <td>2.0</td>\n",
       "      <td>4.0</td>\n",
       "      <td>J028</td>\n",
       "      <td>3/22/2016</td>\n",
       "      <td>AZCAPOTZALCO</td>\n",
       "      <td>19.484515</td>\n",
       "      <td>-99.185456</td>\n",
       "    </tr>\n",
       "  </tbody>\n",
       "</table>\n",
       "</div>"
      ],
      "text/plain": [
       "         CLUES  SEXO  EDAD AFECPRIN FECHAINGRESO NOMBRE DEL MUNICIPIO  \\\n",
       "0  DFSSA000053   2.0  10.0     J00X    3/21/2016         AZCAPOTZALCO   \n",
       "1  DFSSA000053   2.0   5.0     J028    3/21/2016         AZCAPOTZALCO   \n",
       "2  DFSSA000053   1.0   1.0     J00X    3/23/2016         AZCAPOTZALCO   \n",
       "3  DFSSA000053   1.0   1.0     J459   11/21/2016         AZCAPOTZALCO   \n",
       "4  DFSSA000053   2.0   4.0     J028    3/22/2016         AZCAPOTZALCO   \n",
       "\n",
       "     LATITUD   LONGITUD  \n",
       "0  19.484515 -99.185456  \n",
       "1  19.484515 -99.185456  \n",
       "2  19.484515 -99.185456  \n",
       "3  19.484515 -99.185456  \n",
       "4  19.484515 -99.185456  "
      ]
     },
     "execution_count": 38,
     "metadata": {},
     "output_type": "execute_result"
    }
   ],
   "source": [
    "urgencias = pd.read_csv('../Resources/Urgencias_CDMX_respiratorias.csv')\n",
    "urgencias.head()"
   ]
  },
  {
   "cell_type": "markdown",
   "metadata": {},
   "source": [
    "***"
   ]
  },
  {
   "cell_type": "markdown",
   "metadata": {},
   "source": [
    "## Cleaning date format"
   ]
  },
  {
   "cell_type": "markdown",
   "metadata": {},
   "source": [
    "**DATES**. <br>\n",
    "There are two date formats in the dataset: \"MM/DD/YYYY\" and \"YYYY-MM-DD 00:00:00\". Next section is to clean dates."
   ]
  },
  {
   "cell_type": "code",
   "execution_count": 39,
   "metadata": {},
   "outputs": [
    {
     "data": {
      "text/plain": [
       "(649702, 8)"
      ]
     },
     "execution_count": 39,
     "metadata": {},
     "output_type": "execute_result"
    }
   ],
   "source": [
    "urgencias.shape"
   ]
  },
  {
   "cell_type": "code",
   "execution_count": 40,
   "metadata": {},
   "outputs": [
    {
     "data": {
      "text/html": [
       "<div>\n",
       "<style scoped>\n",
       "    .dataframe tbody tr th:only-of-type {\n",
       "        vertical-align: middle;\n",
       "    }\n",
       "\n",
       "    .dataframe tbody tr th {\n",
       "        vertical-align: top;\n",
       "    }\n",
       "\n",
       "    .dataframe thead th {\n",
       "        text-align: right;\n",
       "    }\n",
       "</style>\n",
       "<table border=\"1\" class=\"dataframe\">\n",
       "  <thead>\n",
       "    <tr style=\"text-align: right;\">\n",
       "      <th></th>\n",
       "      <th>CLUES</th>\n",
       "      <th>SEXO</th>\n",
       "      <th>EDAD</th>\n",
       "      <th>AFECPRIN</th>\n",
       "      <th>FECHAINGRESO</th>\n",
       "      <th>NOMBRE DEL MUNICIPIO</th>\n",
       "      <th>LATITUD</th>\n",
       "      <th>LONGITUD</th>\n",
       "      <th>TIME</th>\n",
       "      <th>DATE</th>\n",
       "    </tr>\n",
       "  </thead>\n",
       "  <tbody>\n",
       "    <tr>\n",
       "      <th>0</th>\n",
       "      <td>DFSSA000053</td>\n",
       "      <td>2.0</td>\n",
       "      <td>10.0</td>\n",
       "      <td>J00X</td>\n",
       "      <td>3/21/2016</td>\n",
       "      <td>AZCAPOTZALCO</td>\n",
       "      <td>19.484515</td>\n",
       "      <td>-99.185456</td>\n",
       "      <td>None</td>\n",
       "      <td>3/21/2016</td>\n",
       "    </tr>\n",
       "    <tr>\n",
       "      <th>1</th>\n",
       "      <td>DFSSA000053</td>\n",
       "      <td>2.0</td>\n",
       "      <td>5.0</td>\n",
       "      <td>J028</td>\n",
       "      <td>3/21/2016</td>\n",
       "      <td>AZCAPOTZALCO</td>\n",
       "      <td>19.484515</td>\n",
       "      <td>-99.185456</td>\n",
       "      <td>None</td>\n",
       "      <td>3/21/2016</td>\n",
       "    </tr>\n",
       "    <tr>\n",
       "      <th>2</th>\n",
       "      <td>DFSSA000053</td>\n",
       "      <td>1.0</td>\n",
       "      <td>1.0</td>\n",
       "      <td>J00X</td>\n",
       "      <td>3/23/2016</td>\n",
       "      <td>AZCAPOTZALCO</td>\n",
       "      <td>19.484515</td>\n",
       "      <td>-99.185456</td>\n",
       "      <td>None</td>\n",
       "      <td>3/23/2016</td>\n",
       "    </tr>\n",
       "    <tr>\n",
       "      <th>3</th>\n",
       "      <td>DFSSA000053</td>\n",
       "      <td>1.0</td>\n",
       "      <td>1.0</td>\n",
       "      <td>J459</td>\n",
       "      <td>11/21/2016</td>\n",
       "      <td>AZCAPOTZALCO</td>\n",
       "      <td>19.484515</td>\n",
       "      <td>-99.185456</td>\n",
       "      <td>None</td>\n",
       "      <td>11/21/2016</td>\n",
       "    </tr>\n",
       "    <tr>\n",
       "      <th>4</th>\n",
       "      <td>DFSSA000053</td>\n",
       "      <td>2.0</td>\n",
       "      <td>4.0</td>\n",
       "      <td>J028</td>\n",
       "      <td>3/22/2016</td>\n",
       "      <td>AZCAPOTZALCO</td>\n",
       "      <td>19.484515</td>\n",
       "      <td>-99.185456</td>\n",
       "      <td>None</td>\n",
       "      <td>3/22/2016</td>\n",
       "    </tr>\n",
       "  </tbody>\n",
       "</table>\n",
       "</div>"
      ],
      "text/plain": [
       "         CLUES  SEXO  EDAD AFECPRIN FECHAINGRESO NOMBRE DEL MUNICIPIO  \\\n",
       "0  DFSSA000053   2.0  10.0     J00X    3/21/2016         AZCAPOTZALCO   \n",
       "1  DFSSA000053   2.0   5.0     J028    3/21/2016         AZCAPOTZALCO   \n",
       "2  DFSSA000053   1.0   1.0     J00X    3/23/2016         AZCAPOTZALCO   \n",
       "3  DFSSA000053   1.0   1.0     J459   11/21/2016         AZCAPOTZALCO   \n",
       "4  DFSSA000053   2.0   4.0     J028    3/22/2016         AZCAPOTZALCO   \n",
       "\n",
       "     LATITUD   LONGITUD  TIME        DATE  \n",
       "0  19.484515 -99.185456  None   3/21/2016  \n",
       "1  19.484515 -99.185456  None   3/21/2016  \n",
       "2  19.484515 -99.185456  None   3/23/2016  \n",
       "3  19.484515 -99.185456  None  11/21/2016  \n",
       "4  19.484515 -99.185456  None   3/22/2016  "
      ]
     },
     "execution_count": 40,
     "metadata": {},
     "output_type": "execute_result"
    }
   ],
   "source": [
    "date = urgencias['FECHAINGRESO'].str.split(\" \", expand=True)\n",
    "urgencias['TIME'] = date[1]\n",
    "urgencias['DATE'] = date[0]\n",
    "urgencias.head()"
   ]
  },
  {
   "cell_type": "markdown",
   "metadata": {},
   "source": [
    "Dataframe was separated into two, one with each date format."
   ]
  },
  {
   "cell_type": "code",
   "execution_count": 41,
   "metadata": {},
   "outputs": [],
   "source": [
    "urgencias2 = urgencias.loc[pd.notnull(urgencias['TIME'])]   # Date format\n",
    "urgencias1 = urgencias.loc[pd.isnull(urgencias['TIME'])]    # \"MM/DD/YYYY\" string format"
   ]
  },
  {
   "cell_type": "code",
   "execution_count": 42,
   "metadata": {},
   "outputs": [
    {
     "data": {
      "text/plain": [
       "(115807, 10)"
      ]
     },
     "execution_count": 42,
     "metadata": {},
     "output_type": "execute_result"
    }
   ],
   "source": [
    "urgencias1.shape"
   ]
  },
  {
   "cell_type": "code",
   "execution_count": 43,
   "metadata": {},
   "outputs": [
    {
     "data": {
      "text/plain": [
       "(533895, 10)"
      ]
     },
     "execution_count": 43,
     "metadata": {},
     "output_type": "execute_result"
    }
   ],
   "source": [
    "urgencias2.shape"
   ]
  },
  {
   "cell_type": "code",
   "execution_count": 44,
   "metadata": {},
   "outputs": [],
   "source": [
    "date1 = urgencias1['DATE'].str.split(\"/\", expand=True)\n",
    "date2 = urgencias2['DATE'].str.split(\"-\", expand=True)"
   ]
  },
  {
   "cell_type": "code",
   "execution_count": 45,
   "metadata": {},
   "outputs": [
    {
     "data": {
      "text/html": [
       "<div>\n",
       "<style scoped>\n",
       "    .dataframe tbody tr th:only-of-type {\n",
       "        vertical-align: middle;\n",
       "    }\n",
       "\n",
       "    .dataframe tbody tr th {\n",
       "        vertical-align: top;\n",
       "    }\n",
       "\n",
       "    .dataframe thead th {\n",
       "        text-align: right;\n",
       "    }\n",
       "</style>\n",
       "<table border=\"1\" class=\"dataframe\">\n",
       "  <thead>\n",
       "    <tr style=\"text-align: right;\">\n",
       "      <th></th>\n",
       "      <th>0</th>\n",
       "      <th>1</th>\n",
       "      <th>2</th>\n",
       "    </tr>\n",
       "  </thead>\n",
       "  <tbody>\n",
       "    <tr>\n",
       "      <th>0</th>\n",
       "      <td>3</td>\n",
       "      <td>21</td>\n",
       "      <td>2016</td>\n",
       "    </tr>\n",
       "    <tr>\n",
       "      <th>1</th>\n",
       "      <td>3</td>\n",
       "      <td>21</td>\n",
       "      <td>2016</td>\n",
       "    </tr>\n",
       "  </tbody>\n",
       "</table>\n",
       "</div>"
      ],
      "text/plain": [
       "   0   1     2\n",
       "0  3  21  2016\n",
       "1  3  21  2016"
      ]
     },
     "execution_count": 45,
     "metadata": {},
     "output_type": "execute_result"
    }
   ],
   "source": [
    "date1.head(2)"
   ]
  },
  {
   "cell_type": "code",
   "execution_count": 46,
   "metadata": {},
   "outputs": [
    {
     "name": "stderr",
     "output_type": "stream",
     "text": [
      "C:\\Users\\sandr\\Anaconda3\\lib\\site-packages\\ipykernel_launcher.py:1: SettingWithCopyWarning: \n",
      "A value is trying to be set on a copy of a slice from a DataFrame.\n",
      "Try using .loc[row_indexer,col_indexer] = value instead\n",
      "\n",
      "See the caveats in the documentation: http://pandas.pydata.org/pandas-docs/stable/indexing.html#indexing-view-versus-copy\n",
      "  \"\"\"Entry point for launching an IPython kernel.\n",
      "C:\\Users\\sandr\\Anaconda3\\lib\\site-packages\\ipykernel_launcher.py:2: SettingWithCopyWarning: \n",
      "A value is trying to be set on a copy of a slice from a DataFrame.\n",
      "Try using .loc[row_indexer,col_indexer] = value instead\n",
      "\n",
      "See the caveats in the documentation: http://pandas.pydata.org/pandas-docs/stable/indexing.html#indexing-view-versus-copy\n",
      "  \n",
      "C:\\Users\\sandr\\Anaconda3\\lib\\site-packages\\ipykernel_launcher.py:3: SettingWithCopyWarning: \n",
      "A value is trying to be set on a copy of a slice from a DataFrame.\n",
      "Try using .loc[row_indexer,col_indexer] = value instead\n",
      "\n",
      "See the caveats in the documentation: http://pandas.pydata.org/pandas-docs/stable/indexing.html#indexing-view-versus-copy\n",
      "  This is separate from the ipykernel package so we can avoid doing imports until\n"
     ]
    },
    {
     "data": {
      "text/html": [
       "<div>\n",
       "<style scoped>\n",
       "    .dataframe tbody tr th:only-of-type {\n",
       "        vertical-align: middle;\n",
       "    }\n",
       "\n",
       "    .dataframe tbody tr th {\n",
       "        vertical-align: top;\n",
       "    }\n",
       "\n",
       "    .dataframe thead th {\n",
       "        text-align: right;\n",
       "    }\n",
       "</style>\n",
       "<table border=\"1\" class=\"dataframe\">\n",
       "  <thead>\n",
       "    <tr style=\"text-align: right;\">\n",
       "      <th></th>\n",
       "      <th>CLUES</th>\n",
       "      <th>SEXO</th>\n",
       "      <th>EDAD</th>\n",
       "      <th>AFECPRIN</th>\n",
       "      <th>NOMBRE DEL MUNICIPIO</th>\n",
       "      <th>LATITUD</th>\n",
       "      <th>LONGITUD</th>\n",
       "      <th>YYYY</th>\n",
       "      <th>MM</th>\n",
       "      <th>DD</th>\n",
       "    </tr>\n",
       "  </thead>\n",
       "  <tbody>\n",
       "    <tr>\n",
       "      <th>0</th>\n",
       "      <td>DFSSA000053</td>\n",
       "      <td>2.0</td>\n",
       "      <td>10.0</td>\n",
       "      <td>J00X</td>\n",
       "      <td>AZCAPOTZALCO</td>\n",
       "      <td>19.484515</td>\n",
       "      <td>-99.185456</td>\n",
       "      <td>2016</td>\n",
       "      <td>3</td>\n",
       "      <td>21</td>\n",
       "    </tr>\n",
       "    <tr>\n",
       "      <th>1</th>\n",
       "      <td>DFSSA000053</td>\n",
       "      <td>2.0</td>\n",
       "      <td>5.0</td>\n",
       "      <td>J028</td>\n",
       "      <td>AZCAPOTZALCO</td>\n",
       "      <td>19.484515</td>\n",
       "      <td>-99.185456</td>\n",
       "      <td>2016</td>\n",
       "      <td>3</td>\n",
       "      <td>21</td>\n",
       "    </tr>\n",
       "    <tr>\n",
       "      <th>2</th>\n",
       "      <td>DFSSA000053</td>\n",
       "      <td>1.0</td>\n",
       "      <td>1.0</td>\n",
       "      <td>J00X</td>\n",
       "      <td>AZCAPOTZALCO</td>\n",
       "      <td>19.484515</td>\n",
       "      <td>-99.185456</td>\n",
       "      <td>2016</td>\n",
       "      <td>3</td>\n",
       "      <td>23</td>\n",
       "    </tr>\n",
       "    <tr>\n",
       "      <th>3</th>\n",
       "      <td>DFSSA000053</td>\n",
       "      <td>1.0</td>\n",
       "      <td>1.0</td>\n",
       "      <td>J459</td>\n",
       "      <td>AZCAPOTZALCO</td>\n",
       "      <td>19.484515</td>\n",
       "      <td>-99.185456</td>\n",
       "      <td>2016</td>\n",
       "      <td>11</td>\n",
       "      <td>21</td>\n",
       "    </tr>\n",
       "    <tr>\n",
       "      <th>4</th>\n",
       "      <td>DFSSA000053</td>\n",
       "      <td>2.0</td>\n",
       "      <td>4.0</td>\n",
       "      <td>J028</td>\n",
       "      <td>AZCAPOTZALCO</td>\n",
       "      <td>19.484515</td>\n",
       "      <td>-99.185456</td>\n",
       "      <td>2016</td>\n",
       "      <td>3</td>\n",
       "      <td>22</td>\n",
       "    </tr>\n",
       "  </tbody>\n",
       "</table>\n",
       "</div>"
      ],
      "text/plain": [
       "         CLUES  SEXO  EDAD AFECPRIN NOMBRE DEL MUNICIPIO    LATITUD  \\\n",
       "0  DFSSA000053   2.0  10.0     J00X         AZCAPOTZALCO  19.484515   \n",
       "1  DFSSA000053   2.0   5.0     J028         AZCAPOTZALCO  19.484515   \n",
       "2  DFSSA000053   1.0   1.0     J00X         AZCAPOTZALCO  19.484515   \n",
       "3  DFSSA000053   1.0   1.0     J459         AZCAPOTZALCO  19.484515   \n",
       "4  DFSSA000053   2.0   4.0     J028         AZCAPOTZALCO  19.484515   \n",
       "\n",
       "    LONGITUD  YYYY  MM  DD  \n",
       "0 -99.185456  2016   3  21  \n",
       "1 -99.185456  2016   3  21  \n",
       "2 -99.185456  2016   3  23  \n",
       "3 -99.185456  2016  11  21  \n",
       "4 -99.185456  2016   3  22  "
      ]
     },
     "execution_count": 46,
     "metadata": {},
     "output_type": "execute_result"
    }
   ],
   "source": [
    "urgencias1['YYYY']=date1[2]\n",
    "urgencias1['MM']=date1[0]\n",
    "urgencias1['DD']=date1[1]\n",
    "urgencias1 = urgencias1[['CLUES', 'SEXO', 'EDAD', 'AFECPRIN', 'NOMBRE DEL MUNICIPIO', 'LATITUD', 'LONGITUD', 'YYYY', 'MM', 'DD']]\n",
    "urgencias1.head()"
   ]
  },
  {
   "cell_type": "code",
   "execution_count": 47,
   "metadata": {},
   "outputs": [
    {
     "data": {
      "text/html": [
       "<div>\n",
       "<style scoped>\n",
       "    .dataframe tbody tr th:only-of-type {\n",
       "        vertical-align: middle;\n",
       "    }\n",
       "\n",
       "    .dataframe tbody tr th {\n",
       "        vertical-align: top;\n",
       "    }\n",
       "\n",
       "    .dataframe thead th {\n",
       "        text-align: right;\n",
       "    }\n",
       "</style>\n",
       "<table border=\"1\" class=\"dataframe\">\n",
       "  <thead>\n",
       "    <tr style=\"text-align: right;\">\n",
       "      <th></th>\n",
       "      <th>0</th>\n",
       "      <th>1</th>\n",
       "      <th>2</th>\n",
       "    </tr>\n",
       "  </thead>\n",
       "  <tbody>\n",
       "    <tr>\n",
       "      <th>115491</th>\n",
       "      <td>2015</td>\n",
       "      <td>06</td>\n",
       "      <td>28</td>\n",
       "    </tr>\n",
       "    <tr>\n",
       "      <th>115492</th>\n",
       "      <td>2015</td>\n",
       "      <td>06</td>\n",
       "      <td>28</td>\n",
       "    </tr>\n",
       "  </tbody>\n",
       "</table>\n",
       "</div>"
      ],
      "text/plain": [
       "           0   1   2\n",
       "115491  2015  06  28\n",
       "115492  2015  06  28"
      ]
     },
     "execution_count": 47,
     "metadata": {},
     "output_type": "execute_result"
    }
   ],
   "source": [
    "date2.head(2)"
   ]
  },
  {
   "cell_type": "code",
   "execution_count": 48,
   "metadata": {},
   "outputs": [
    {
     "name": "stderr",
     "output_type": "stream",
     "text": [
      "C:\\Users\\sandr\\Anaconda3\\lib\\site-packages\\ipykernel_launcher.py:1: SettingWithCopyWarning: \n",
      "A value is trying to be set on a copy of a slice from a DataFrame.\n",
      "Try using .loc[row_indexer,col_indexer] = value instead\n",
      "\n",
      "See the caveats in the documentation: http://pandas.pydata.org/pandas-docs/stable/indexing.html#indexing-view-versus-copy\n",
      "  \"\"\"Entry point for launching an IPython kernel.\n",
      "C:\\Users\\sandr\\Anaconda3\\lib\\site-packages\\ipykernel_launcher.py:2: SettingWithCopyWarning: \n",
      "A value is trying to be set on a copy of a slice from a DataFrame.\n",
      "Try using .loc[row_indexer,col_indexer] = value instead\n",
      "\n",
      "See the caveats in the documentation: http://pandas.pydata.org/pandas-docs/stable/indexing.html#indexing-view-versus-copy\n",
      "  \n",
      "C:\\Users\\sandr\\Anaconda3\\lib\\site-packages\\ipykernel_launcher.py:3: SettingWithCopyWarning: \n",
      "A value is trying to be set on a copy of a slice from a DataFrame.\n",
      "Try using .loc[row_indexer,col_indexer] = value instead\n",
      "\n",
      "See the caveats in the documentation: http://pandas.pydata.org/pandas-docs/stable/indexing.html#indexing-view-versus-copy\n",
      "  This is separate from the ipykernel package so we can avoid doing imports until\n"
     ]
    },
    {
     "data": {
      "text/html": [
       "<div>\n",
       "<style scoped>\n",
       "    .dataframe tbody tr th:only-of-type {\n",
       "        vertical-align: middle;\n",
       "    }\n",
       "\n",
       "    .dataframe tbody tr th {\n",
       "        vertical-align: top;\n",
       "    }\n",
       "\n",
       "    .dataframe thead th {\n",
       "        text-align: right;\n",
       "    }\n",
       "</style>\n",
       "<table border=\"1\" class=\"dataframe\">\n",
       "  <thead>\n",
       "    <tr style=\"text-align: right;\">\n",
       "      <th></th>\n",
       "      <th>CLUES</th>\n",
       "      <th>SEXO</th>\n",
       "      <th>EDAD</th>\n",
       "      <th>AFECPRIN</th>\n",
       "      <th>NOMBRE DEL MUNICIPIO</th>\n",
       "      <th>LATITUD</th>\n",
       "      <th>LONGITUD</th>\n",
       "      <th>YYYY</th>\n",
       "      <th>MM</th>\n",
       "      <th>DD</th>\n",
       "    </tr>\n",
       "  </thead>\n",
       "  <tbody>\n",
       "    <tr>\n",
       "      <th>115491</th>\n",
       "      <td>DFSSA017886</td>\n",
       "      <td>2.0</td>\n",
       "      <td>37.0</td>\n",
       "      <td>J42X</td>\n",
       "      <td>ÁLVARO OBREGÓN</td>\n",
       "      <td>19.361409</td>\n",
       "      <td>-99.224515</td>\n",
       "      <td>2015</td>\n",
       "      <td>06</td>\n",
       "      <td>28</td>\n",
       "    </tr>\n",
       "    <tr>\n",
       "      <th>115492</th>\n",
       "      <td>DFSSA017886</td>\n",
       "      <td>1.0</td>\n",
       "      <td>32.0</td>\n",
       "      <td>J029</td>\n",
       "      <td>ÁLVARO OBREGÓN</td>\n",
       "      <td>19.361409</td>\n",
       "      <td>-99.224515</td>\n",
       "      <td>2015</td>\n",
       "      <td>06</td>\n",
       "      <td>28</td>\n",
       "    </tr>\n",
       "    <tr>\n",
       "      <th>115493</th>\n",
       "      <td>DFSSA017886</td>\n",
       "      <td>1.0</td>\n",
       "      <td>32.0</td>\n",
       "      <td>J029</td>\n",
       "      <td>ÁLVARO OBREGÓN</td>\n",
       "      <td>19.361409</td>\n",
       "      <td>-99.224515</td>\n",
       "      <td>2015</td>\n",
       "      <td>06</td>\n",
       "      <td>28</td>\n",
       "    </tr>\n",
       "    <tr>\n",
       "      <th>115494</th>\n",
       "      <td>DFSSA017886</td>\n",
       "      <td>2.0</td>\n",
       "      <td>33.0</td>\n",
       "      <td>J029</td>\n",
       "      <td>ÁLVARO OBREGÓN</td>\n",
       "      <td>19.361409</td>\n",
       "      <td>-99.224515</td>\n",
       "      <td>2015</td>\n",
       "      <td>06</td>\n",
       "      <td>28</td>\n",
       "    </tr>\n",
       "    <tr>\n",
       "      <th>115495</th>\n",
       "      <td>DFSSA017886</td>\n",
       "      <td>1.0</td>\n",
       "      <td>58.0</td>\n",
       "      <td>J029</td>\n",
       "      <td>ÁLVARO OBREGÓN</td>\n",
       "      <td>19.361409</td>\n",
       "      <td>-99.224515</td>\n",
       "      <td>2015</td>\n",
       "      <td>06</td>\n",
       "      <td>28</td>\n",
       "    </tr>\n",
       "  </tbody>\n",
       "</table>\n",
       "</div>"
      ],
      "text/plain": [
       "              CLUES  SEXO  EDAD AFECPRIN NOMBRE DEL MUNICIPIO    LATITUD  \\\n",
       "115491  DFSSA017886   2.0  37.0     J42X       ÁLVARO OBREGÓN  19.361409   \n",
       "115492  DFSSA017886   1.0  32.0     J029       ÁLVARO OBREGÓN  19.361409   \n",
       "115493  DFSSA017886   1.0  32.0     J029       ÁLVARO OBREGÓN  19.361409   \n",
       "115494  DFSSA017886   2.0  33.0     J029       ÁLVARO OBREGÓN  19.361409   \n",
       "115495  DFSSA017886   1.0  58.0     J029       ÁLVARO OBREGÓN  19.361409   \n",
       "\n",
       "         LONGITUD  YYYY  MM  DD  \n",
       "115491 -99.224515  2015  06  28  \n",
       "115492 -99.224515  2015  06  28  \n",
       "115493 -99.224515  2015  06  28  \n",
       "115494 -99.224515  2015  06  28  \n",
       "115495 -99.224515  2015  06  28  "
      ]
     },
     "execution_count": 48,
     "metadata": {},
     "output_type": "execute_result"
    }
   ],
   "source": [
    "urgencias2['YYYY']=date2[0]\n",
    "urgencias2['MM']=date2[1]\n",
    "urgencias2['DD']=date2[2]\n",
    "urgencias2 = urgencias2[['CLUES', 'SEXO', 'EDAD', 'AFECPRIN', 'NOMBRE DEL MUNICIPIO', 'LATITUD', 'LONGITUD', 'YYYY', 'MM', 'DD']]\n",
    "urgencias2.head()"
   ]
  },
  {
   "cell_type": "markdown",
   "metadata": {},
   "source": [
    "Two datasets are joined again into a single Emergencies dataset."
   ]
  },
  {
   "cell_type": "code",
   "execution_count": 49,
   "metadata": {},
   "outputs": [
    {
     "data": {
      "text/html": [
       "<div>\n",
       "<style scoped>\n",
       "    .dataframe tbody tr th:only-of-type {\n",
       "        vertical-align: middle;\n",
       "    }\n",
       "\n",
       "    .dataframe tbody tr th {\n",
       "        vertical-align: top;\n",
       "    }\n",
       "\n",
       "    .dataframe thead th {\n",
       "        text-align: right;\n",
       "    }\n",
       "</style>\n",
       "<table border=\"1\" class=\"dataframe\">\n",
       "  <thead>\n",
       "    <tr style=\"text-align: right;\">\n",
       "      <th></th>\n",
       "      <th>CLUES</th>\n",
       "      <th>SEXO</th>\n",
       "      <th>EDAD</th>\n",
       "      <th>AFECPRIN</th>\n",
       "      <th>NOMBRE DEL MUNICIPIO</th>\n",
       "      <th>LATITUD</th>\n",
       "      <th>LONGITUD</th>\n",
       "      <th>YYYY</th>\n",
       "      <th>MM</th>\n",
       "      <th>DD</th>\n",
       "    </tr>\n",
       "  </thead>\n",
       "  <tbody>\n",
       "    <tr>\n",
       "      <th>0</th>\n",
       "      <td>DFSSA000053</td>\n",
       "      <td>2.0</td>\n",
       "      <td>10.0</td>\n",
       "      <td>J00X</td>\n",
       "      <td>AZCAPOTZALCO</td>\n",
       "      <td>19.484515</td>\n",
       "      <td>-99.185456</td>\n",
       "      <td>2016</td>\n",
       "      <td>3</td>\n",
       "      <td>21</td>\n",
       "    </tr>\n",
       "    <tr>\n",
       "      <th>1</th>\n",
       "      <td>DFSSA000053</td>\n",
       "      <td>2.0</td>\n",
       "      <td>5.0</td>\n",
       "      <td>J028</td>\n",
       "      <td>AZCAPOTZALCO</td>\n",
       "      <td>19.484515</td>\n",
       "      <td>-99.185456</td>\n",
       "      <td>2016</td>\n",
       "      <td>3</td>\n",
       "      <td>21</td>\n",
       "    </tr>\n",
       "    <tr>\n",
       "      <th>2</th>\n",
       "      <td>DFSSA000053</td>\n",
       "      <td>1.0</td>\n",
       "      <td>1.0</td>\n",
       "      <td>J00X</td>\n",
       "      <td>AZCAPOTZALCO</td>\n",
       "      <td>19.484515</td>\n",
       "      <td>-99.185456</td>\n",
       "      <td>2016</td>\n",
       "      <td>3</td>\n",
       "      <td>23</td>\n",
       "    </tr>\n",
       "    <tr>\n",
       "      <th>3</th>\n",
       "      <td>DFSSA000053</td>\n",
       "      <td>1.0</td>\n",
       "      <td>1.0</td>\n",
       "      <td>J459</td>\n",
       "      <td>AZCAPOTZALCO</td>\n",
       "      <td>19.484515</td>\n",
       "      <td>-99.185456</td>\n",
       "      <td>2016</td>\n",
       "      <td>11</td>\n",
       "      <td>21</td>\n",
       "    </tr>\n",
       "    <tr>\n",
       "      <th>4</th>\n",
       "      <td>DFSSA000053</td>\n",
       "      <td>2.0</td>\n",
       "      <td>4.0</td>\n",
       "      <td>J028</td>\n",
       "      <td>AZCAPOTZALCO</td>\n",
       "      <td>19.484515</td>\n",
       "      <td>-99.185456</td>\n",
       "      <td>2016</td>\n",
       "      <td>3</td>\n",
       "      <td>22</td>\n",
       "    </tr>\n",
       "  </tbody>\n",
       "</table>\n",
       "</div>"
      ],
      "text/plain": [
       "         CLUES  SEXO  EDAD AFECPRIN NOMBRE DEL MUNICIPIO    LATITUD  \\\n",
       "0  DFSSA000053   2.0  10.0     J00X         AZCAPOTZALCO  19.484515   \n",
       "1  DFSSA000053   2.0   5.0     J028         AZCAPOTZALCO  19.484515   \n",
       "2  DFSSA000053   1.0   1.0     J00X         AZCAPOTZALCO  19.484515   \n",
       "3  DFSSA000053   1.0   1.0     J459         AZCAPOTZALCO  19.484515   \n",
       "4  DFSSA000053   2.0   4.0     J028         AZCAPOTZALCO  19.484515   \n",
       "\n",
       "    LONGITUD  YYYY  MM  DD  \n",
       "0 -99.185456  2016   3  21  \n",
       "1 -99.185456  2016   3  21  \n",
       "2 -99.185456  2016   3  23  \n",
       "3 -99.185456  2016  11  21  \n",
       "4 -99.185456  2016   3  22  "
      ]
     },
     "execution_count": 49,
     "metadata": {},
     "output_type": "execute_result"
    }
   ],
   "source": [
    "# Rejoin two sets into one\n",
    "urgencias = pd.concat([urgencias1, urgencias2])\n",
    "urgencias.head()"
   ]
  },
  {
   "cell_type": "markdown",
   "metadata": {},
   "source": [
    "<br>\n",
    "<br>For an unknown reason, some data points for other years was imported. Since that data is not complete, only years 2011-2016 will be kept."
   ]
  },
  {
   "cell_type": "code",
   "execution_count": 50,
   "metadata": {},
   "outputs": [
    {
     "data": {
      "text/plain": [
       "array(['2016', '2015', '2017', '2006', nan, '2014', '2013', '2012',\n",
       "       '2011'], dtype=object)"
      ]
     },
     "execution_count": 50,
     "metadata": {},
     "output_type": "execute_result"
    }
   ],
   "source": [
    "urgencias['YYYY'].unique()"
   ]
  },
  {
   "cell_type": "code",
   "execution_count": 51,
   "metadata": {},
   "outputs": [
    {
     "data": {
      "text/plain": [
       "2014    144636\n",
       "2012    137381\n",
       "2013    135752\n",
       "2015    115676\n",
       "2016    105784\n",
       "2017      7773\n",
       "2011      2383\n",
       "2006         1\n",
       "Name: YYYY, dtype: int64"
      ]
     },
     "execution_count": 51,
     "metadata": {},
     "output_type": "execute_result"
    }
   ],
   "source": [
    "urgencias['YYYY'].value_counts()"
   ]
  },
  {
   "cell_type": "code",
   "execution_count": 52,
   "metadata": {},
   "outputs": [],
   "source": [
    "urgencias = urgencias.loc[urgencias['YYYY']!= '2006']\n",
    "urgencias = urgencias.loc[urgencias['YYYY']!= '2017']\n",
    "urgencias = urgencias.loc[pd.notnull(urgencias['YYYY'])]"
   ]
  },
  {
   "cell_type": "code",
   "execution_count": 53,
   "metadata": {},
   "outputs": [
    {
     "data": {
      "text/plain": [
       "array(['2016', '2015', '2014', '2013', '2012', '2011'], dtype=object)"
      ]
     },
     "execution_count": 53,
     "metadata": {},
     "output_type": "execute_result"
    }
   ],
   "source": [
    "urgencias['YYYY'].unique()"
   ]
  },
  {
   "cell_type": "code",
   "execution_count": 54,
   "metadata": {},
   "outputs": [
    {
     "data": {
      "text/plain": [
       "(641612, 10)"
      ]
     },
     "execution_count": 54,
     "metadata": {},
     "output_type": "execute_result"
    }
   ],
   "source": [
    "urgencias.shape"
   ]
  },
  {
   "cell_type": "code",
   "execution_count": 55,
   "metadata": {},
   "outputs": [
    {
     "data": {
      "text/plain": [
       "CLUES                    object\n",
       "SEXO                    float64\n",
       "EDAD                    float64\n",
       "AFECPRIN                 object\n",
       "NOMBRE DEL MUNICIPIO     object\n",
       "LATITUD                 float64\n",
       "LONGITUD                float64\n",
       "YYYY                     object\n",
       "MM                       object\n",
       "DD                       object\n",
       "dtype: object"
      ]
     },
     "execution_count": 55,
     "metadata": {},
     "output_type": "execute_result"
    }
   ],
   "source": [
    "urgencias.dtypes"
   ]
  },
  {
   "cell_type": "code",
   "execution_count": 56,
   "metadata": {},
   "outputs": [
    {
     "data": {
      "text/html": [
       "<div>\n",
       "<style scoped>\n",
       "    .dataframe tbody tr th:only-of-type {\n",
       "        vertical-align: middle;\n",
       "    }\n",
       "\n",
       "    .dataframe tbody tr th {\n",
       "        vertical-align: top;\n",
       "    }\n",
       "\n",
       "    .dataframe thead th {\n",
       "        text-align: right;\n",
       "    }\n",
       "</style>\n",
       "<table border=\"1\" class=\"dataframe\">\n",
       "  <thead>\n",
       "    <tr style=\"text-align: right;\">\n",
       "      <th></th>\n",
       "      <th>CLUES</th>\n",
       "      <th>SEXO</th>\n",
       "      <th>EDAD</th>\n",
       "      <th>AFECPRIN</th>\n",
       "      <th>NOMBRE DEL MUNICIPIO</th>\n",
       "      <th>LATITUD</th>\n",
       "      <th>LONGITUD</th>\n",
       "      <th>YYYY</th>\n",
       "      <th>MM</th>\n",
       "      <th>DD</th>\n",
       "    </tr>\n",
       "  </thead>\n",
       "  <tbody>\n",
       "    <tr>\n",
       "      <th>0</th>\n",
       "      <td>DFSSA000053</td>\n",
       "      <td>2.0</td>\n",
       "      <td>10.0</td>\n",
       "      <td>J00X</td>\n",
       "      <td>AZCAPOTZALCO</td>\n",
       "      <td>19.484515</td>\n",
       "      <td>-99.185456</td>\n",
       "      <td>2016</td>\n",
       "      <td>3</td>\n",
       "      <td>21</td>\n",
       "    </tr>\n",
       "    <tr>\n",
       "      <th>1</th>\n",
       "      <td>DFSSA000053</td>\n",
       "      <td>2.0</td>\n",
       "      <td>5.0</td>\n",
       "      <td>J028</td>\n",
       "      <td>AZCAPOTZALCO</td>\n",
       "      <td>19.484515</td>\n",
       "      <td>-99.185456</td>\n",
       "      <td>2016</td>\n",
       "      <td>3</td>\n",
       "      <td>21</td>\n",
       "    </tr>\n",
       "    <tr>\n",
       "      <th>2</th>\n",
       "      <td>DFSSA000053</td>\n",
       "      <td>1.0</td>\n",
       "      <td>1.0</td>\n",
       "      <td>J00X</td>\n",
       "      <td>AZCAPOTZALCO</td>\n",
       "      <td>19.484515</td>\n",
       "      <td>-99.185456</td>\n",
       "      <td>2016</td>\n",
       "      <td>3</td>\n",
       "      <td>23</td>\n",
       "    </tr>\n",
       "    <tr>\n",
       "      <th>3</th>\n",
       "      <td>DFSSA000053</td>\n",
       "      <td>1.0</td>\n",
       "      <td>1.0</td>\n",
       "      <td>J459</td>\n",
       "      <td>AZCAPOTZALCO</td>\n",
       "      <td>19.484515</td>\n",
       "      <td>-99.185456</td>\n",
       "      <td>2016</td>\n",
       "      <td>11</td>\n",
       "      <td>21</td>\n",
       "    </tr>\n",
       "    <tr>\n",
       "      <th>4</th>\n",
       "      <td>DFSSA000053</td>\n",
       "      <td>2.0</td>\n",
       "      <td>4.0</td>\n",
       "      <td>J028</td>\n",
       "      <td>AZCAPOTZALCO</td>\n",
       "      <td>19.484515</td>\n",
       "      <td>-99.185456</td>\n",
       "      <td>2016</td>\n",
       "      <td>3</td>\n",
       "      <td>22</td>\n",
       "    </tr>\n",
       "  </tbody>\n",
       "</table>\n",
       "</div>"
      ],
      "text/plain": [
       "         CLUES  SEXO  EDAD AFECPRIN NOMBRE DEL MUNICIPIO    LATITUD  \\\n",
       "0  DFSSA000053   2.0  10.0     J00X         AZCAPOTZALCO  19.484515   \n",
       "1  DFSSA000053   2.0   5.0     J028         AZCAPOTZALCO  19.484515   \n",
       "2  DFSSA000053   1.0   1.0     J00X         AZCAPOTZALCO  19.484515   \n",
       "3  DFSSA000053   1.0   1.0     J459         AZCAPOTZALCO  19.484515   \n",
       "4  DFSSA000053   2.0   4.0     J028         AZCAPOTZALCO  19.484515   \n",
       "\n",
       "    LONGITUD  YYYY  MM  DD  \n",
       "0 -99.185456  2016   3  21  \n",
       "1 -99.185456  2016   3  21  \n",
       "2 -99.185456  2016   3  23  \n",
       "3 -99.185456  2016  11  21  \n",
       "4 -99.185456  2016   3  22  "
      ]
     },
     "execution_count": 56,
     "metadata": {},
     "output_type": "execute_result"
    }
   ],
   "source": [
    "urgencias.head()"
   ]
  },
  {
   "cell_type": "markdown",
   "metadata": {},
   "source": [
    "Return to datetime format"
   ]
  },
  {
   "cell_type": "code",
   "execution_count": 57,
   "metadata": {},
   "outputs": [
    {
     "data": {
      "text/html": [
       "<div>\n",
       "<style scoped>\n",
       "    .dataframe tbody tr th:only-of-type {\n",
       "        vertical-align: middle;\n",
       "    }\n",
       "\n",
       "    .dataframe tbody tr th {\n",
       "        vertical-align: top;\n",
       "    }\n",
       "\n",
       "    .dataframe thead th {\n",
       "        text-align: right;\n",
       "    }\n",
       "</style>\n",
       "<table border=\"1\" class=\"dataframe\">\n",
       "  <thead>\n",
       "    <tr style=\"text-align: right;\">\n",
       "      <th></th>\n",
       "      <th>CLUES</th>\n",
       "      <th>SEXO</th>\n",
       "      <th>EDAD</th>\n",
       "      <th>AFECPRIN</th>\n",
       "      <th>NOMBRE DEL MUNICIPIO</th>\n",
       "      <th>LATITUD</th>\n",
       "      <th>LONGITUD</th>\n",
       "      <th>date</th>\n",
       "    </tr>\n",
       "  </thead>\n",
       "  <tbody>\n",
       "    <tr>\n",
       "      <th>0</th>\n",
       "      <td>DFSSA000053</td>\n",
       "      <td>2.0</td>\n",
       "      <td>10.0</td>\n",
       "      <td>J00X</td>\n",
       "      <td>AZCAPOTZALCO</td>\n",
       "      <td>19.484515</td>\n",
       "      <td>-99.185456</td>\n",
       "      <td>2016-03-21</td>\n",
       "    </tr>\n",
       "    <tr>\n",
       "      <th>1</th>\n",
       "      <td>DFSSA000053</td>\n",
       "      <td>2.0</td>\n",
       "      <td>5.0</td>\n",
       "      <td>J028</td>\n",
       "      <td>AZCAPOTZALCO</td>\n",
       "      <td>19.484515</td>\n",
       "      <td>-99.185456</td>\n",
       "      <td>2016-03-21</td>\n",
       "    </tr>\n",
       "    <tr>\n",
       "      <th>2</th>\n",
       "      <td>DFSSA000053</td>\n",
       "      <td>1.0</td>\n",
       "      <td>1.0</td>\n",
       "      <td>J00X</td>\n",
       "      <td>AZCAPOTZALCO</td>\n",
       "      <td>19.484515</td>\n",
       "      <td>-99.185456</td>\n",
       "      <td>2016-03-23</td>\n",
       "    </tr>\n",
       "    <tr>\n",
       "      <th>3</th>\n",
       "      <td>DFSSA000053</td>\n",
       "      <td>1.0</td>\n",
       "      <td>1.0</td>\n",
       "      <td>J459</td>\n",
       "      <td>AZCAPOTZALCO</td>\n",
       "      <td>19.484515</td>\n",
       "      <td>-99.185456</td>\n",
       "      <td>2016-11-21</td>\n",
       "    </tr>\n",
       "    <tr>\n",
       "      <th>4</th>\n",
       "      <td>DFSSA000053</td>\n",
       "      <td>2.0</td>\n",
       "      <td>4.0</td>\n",
       "      <td>J028</td>\n",
       "      <td>AZCAPOTZALCO</td>\n",
       "      <td>19.484515</td>\n",
       "      <td>-99.185456</td>\n",
       "      <td>2016-03-22</td>\n",
       "    </tr>\n",
       "  </tbody>\n",
       "</table>\n",
       "</div>"
      ],
      "text/plain": [
       "         CLUES  SEXO  EDAD AFECPRIN NOMBRE DEL MUNICIPIO    LATITUD  \\\n",
       "0  DFSSA000053   2.0  10.0     J00X         AZCAPOTZALCO  19.484515   \n",
       "1  DFSSA000053   2.0   5.0     J028         AZCAPOTZALCO  19.484515   \n",
       "2  DFSSA000053   1.0   1.0     J00X         AZCAPOTZALCO  19.484515   \n",
       "3  DFSSA000053   1.0   1.0     J459         AZCAPOTZALCO  19.484515   \n",
       "4  DFSSA000053   2.0   4.0     J028         AZCAPOTZALCO  19.484515   \n",
       "\n",
       "    LONGITUD       date  \n",
       "0 -99.185456 2016-03-21  \n",
       "1 -99.185456 2016-03-21  \n",
       "2 -99.185456 2016-03-23  \n",
       "3 -99.185456 2016-11-21  \n",
       "4 -99.185456 2016-03-22  "
      ]
     },
     "execution_count": 57,
     "metadata": {},
     "output_type": "execute_result"
    }
   ],
   "source": [
    "urgencias['date'] = urgencias['YYYY'] +\"-\"+ urgencias['MM'] +\"-\"+ urgencias['DD']\n",
    "urgencias['date'] = pd.to_datetime(urgencias['date'])\n",
    "urgencias = urgencias[['CLUES', 'SEXO', 'EDAD', 'AFECPRIN', 'NOMBRE DEL MUNICIPIO', 'LATITUD', 'LONGITUD', 'date']]\n",
    "urgencias.head()"
   ]
  },
  {
   "cell_type": "code",
   "execution_count": 58,
   "metadata": {},
   "outputs": [
    {
     "data": {
      "text/plain": [
       "CLUES                           object\n",
       "SEXO                           float64\n",
       "EDAD                           float64\n",
       "AFECPRIN                        object\n",
       "NOMBRE DEL MUNICIPIO            object\n",
       "LATITUD                        float64\n",
       "LONGITUD                       float64\n",
       "date                    datetime64[ns]\n",
       "dtype: object"
      ]
     },
     "execution_count": 58,
     "metadata": {},
     "output_type": "execute_result"
    }
   ],
   "source": [
    "urgencias.dtypes"
   ]
  },
  {
   "cell_type": "code",
   "execution_count": 59,
   "metadata": {},
   "outputs": [],
   "source": [
    "urgencias.to_csv('../Resources/Urgencias_CDMX_respiratorias_date-corrected.csv')"
   ]
  },
  {
   "cell_type": "markdown",
   "metadata": {},
   "source": [
    "***"
   ]
  },
  {
   "cell_type": "markdown",
   "metadata": {},
   "source": [
    "### Extract general information about municipalities"
   ]
  },
  {
   "cell_type": "code",
   "execution_count": 60,
   "metadata": {},
   "outputs": [
    {
     "data": {
      "text/html": [
       "<div>\n",
       "<style scoped>\n",
       "    .dataframe tbody tr th:only-of-type {\n",
       "        vertical-align: middle;\n",
       "    }\n",
       "\n",
       "    .dataframe tbody tr th {\n",
       "        vertical-align: top;\n",
       "    }\n",
       "\n",
       "    .dataframe thead th {\n",
       "        text-align: right;\n",
       "    }\n",
       "</style>\n",
       "<table border=\"1\" class=\"dataframe\">\n",
       "  <thead>\n",
       "    <tr style=\"text-align: right;\">\n",
       "      <th></th>\n",
       "      <th>ABREV</th>\n",
       "      <th>POBLACIÓN</th>\n",
       "      <th>SUPERFICIE (KM2)</th>\n",
       "      <th>DENSIDAD (HAB7KM2)</th>\n",
       "    </tr>\n",
       "    <tr>\n",
       "      <th>DELEGACIÓN</th>\n",
       "      <th></th>\n",
       "      <th></th>\n",
       "      <th></th>\n",
       "      <th></th>\n",
       "    </tr>\n",
       "  </thead>\n",
       "  <tbody>\n",
       "    <tr>\n",
       "      <th>ÁLVARO OBREGÓN</th>\n",
       "      <td>AO</td>\n",
       "      <td>749982</td>\n",
       "      <td>96.17</td>\n",
       "      <td>7799</td>\n",
       "    </tr>\n",
       "    <tr>\n",
       "      <th>AZCAPOTZALCO</th>\n",
       "      <td>AZC</td>\n",
       "      <td>400161</td>\n",
       "      <td>33.66</td>\n",
       "      <td>11888</td>\n",
       "    </tr>\n",
       "    <tr>\n",
       "      <th>BENITO JUÁREZ</th>\n",
       "      <td>BJ</td>\n",
       "      <td>417416</td>\n",
       "      <td>26.63</td>\n",
       "      <td>15675</td>\n",
       "    </tr>\n",
       "    <tr>\n",
       "      <th>COYOACÁN</th>\n",
       "      <td>COY</td>\n",
       "      <td>608479</td>\n",
       "      <td>54.40</td>\n",
       "      <td>11185</td>\n",
       "    </tr>\n",
       "    <tr>\n",
       "      <th>CUAJIMALPA DE MORELOS</th>\n",
       "      <td>CUAJ</td>\n",
       "      <td>199224</td>\n",
       "      <td>74.58</td>\n",
       "      <td>2671</td>\n",
       "    </tr>\n",
       "    <tr>\n",
       "      <th>CUAUHTÉMOC</th>\n",
       "      <td>CUAH</td>\n",
       "      <td>532553</td>\n",
       "      <td>32.40</td>\n",
       "      <td>16437</td>\n",
       "    </tr>\n",
       "    <tr>\n",
       "      <th>GUSTAVO A. MADERO</th>\n",
       "      <td>GAM</td>\n",
       "      <td>1164477</td>\n",
       "      <td>94.07</td>\n",
       "      <td>12379</td>\n",
       "    </tr>\n",
       "    <tr>\n",
       "      <th>IZTACALCO</th>\n",
       "      <td>IZC</td>\n",
       "      <td>390348</td>\n",
       "      <td>23.30</td>\n",
       "      <td>16753</td>\n",
       "    </tr>\n",
       "    <tr>\n",
       "      <th>IZTAPALAPA</th>\n",
       "      <td>IZT</td>\n",
       "      <td>1827868</td>\n",
       "      <td>117.00</td>\n",
       "      <td>15623</td>\n",
       "    </tr>\n",
       "    <tr>\n",
       "      <th>LA MAGDALENA CONTRERAS</th>\n",
       "      <td>MC</td>\n",
       "      <td>243886</td>\n",
       "      <td>74.58</td>\n",
       "      <td>3270</td>\n",
       "    </tr>\n",
       "    <tr>\n",
       "      <th>MIGUEL HIDALGO</th>\n",
       "      <td>MH</td>\n",
       "      <td>364439</td>\n",
       "      <td>46.99</td>\n",
       "      <td>7756</td>\n",
       "    </tr>\n",
       "    <tr>\n",
       "      <th>MILPA ALTA</th>\n",
       "      <td>MA</td>\n",
       "      <td>137927</td>\n",
       "      <td>228.41</td>\n",
       "      <td>604</td>\n",
       "    </tr>\n",
       "    <tr>\n",
       "      <th>TLÁHUAC</th>\n",
       "      <td>TH</td>\n",
       "      <td>361593</td>\n",
       "      <td>85.34</td>\n",
       "      <td>4237</td>\n",
       "    </tr>\n",
       "    <tr>\n",
       "      <th>TLALPAN</th>\n",
       "      <td>TL</td>\n",
       "      <td>677104</td>\n",
       "      <td>312.00</td>\n",
       "      <td>2170</td>\n",
       "    </tr>\n",
       "    <tr>\n",
       "      <th>VENUSTIANO CARRANZA</th>\n",
       "      <td>VC</td>\n",
       "      <td>427263</td>\n",
       "      <td>33.40</td>\n",
       "      <td>12792</td>\n",
       "    </tr>\n",
       "    <tr>\n",
       "      <th>XOCHIMILCO</th>\n",
       "      <td>XOCH</td>\n",
       "      <td>415933</td>\n",
       "      <td>122.00</td>\n",
       "      <td>3409</td>\n",
       "    </tr>\n",
       "    <tr>\n",
       "      <th>TOTAL</th>\n",
       "      <td>TOT</td>\n",
       "      <td>8918653</td>\n",
       "      <td>1455.00</td>\n",
       "      <td>6130</td>\n",
       "    </tr>\n",
       "  </tbody>\n",
       "</table>\n",
       "</div>"
      ],
      "text/plain": [
       "                       ABREV  POBLACIÓN  SUPERFICIE (KM2)  DENSIDAD (HAB7KM2)\n",
       "DELEGACIÓN                                                                   \n",
       "ÁLVARO OBREGÓN            AO     749982             96.17                7799\n",
       "AZCAPOTZALCO             AZC     400161             33.66               11888\n",
       "BENITO JUÁREZ             BJ     417416             26.63               15675\n",
       "COYOACÁN                 COY     608479             54.40               11185\n",
       "CUAJIMALPA DE MORELOS   CUAJ     199224             74.58                2671\n",
       "CUAUHTÉMOC              CUAH     532553             32.40               16437\n",
       "GUSTAVO A. MADERO        GAM    1164477             94.07               12379\n",
       "IZTACALCO                IZC     390348             23.30               16753\n",
       "IZTAPALAPA               IZT    1827868            117.00               15623\n",
       "LA MAGDALENA CONTRERAS    MC     243886             74.58                3270\n",
       "MIGUEL HIDALGO            MH     364439             46.99                7756\n",
       "MILPA ALTA                MA     137927            228.41                 604\n",
       "TLÁHUAC                   TH     361593             85.34                4237\n",
       "TLALPAN                   TL     677104            312.00                2170\n",
       "VENUSTIANO CARRANZA       VC     427263             33.40               12792\n",
       "XOCHIMILCO              XOCH     415933            122.00                3409\n",
       "TOTAL                    TOT    8918653           1455.00                6130"
      ]
     },
     "execution_count": 60,
     "metadata": {},
     "output_type": "execute_result"
    }
   ],
   "source": [
    "delegaciones = pd.read_csv('../Resources/delegaciones.csv')\n",
    "delegaciones = delegaciones.set_index('DELEGACIÓN')\n",
    "delegaciones"
   ]
  },
  {
   "cell_type": "code",
   "execution_count": 61,
   "metadata": {},
   "outputs": [
    {
     "data": {
      "text/plain": [
       "array(['AZCAPOTZALCO', 'COYOACÁN', 'GUSTAVO A. MADERO', 'IZTACALCO',\n",
       "       'IZTAPALAPA', 'LA MAGDALENA CONTRERAS', 'MILPA ALTA', 'TLÁHUAC',\n",
       "       'TLALPAN', 'XOCHIMILCO', 'BENITO JUÁREZ', 'CUAUHTÉMOC',\n",
       "       'MIGUEL HIDALGO', 'VENUSTIANO CARRANZA', 'ÁLVARO OBREGÓN',\n",
       "       'CUAJIMALPA DE MORELOS'], dtype=object)"
      ]
     },
     "execution_count": 61,
     "metadata": {},
     "output_type": "execute_result"
    }
   ],
   "source": [
    "urgencias['NOMBRE DEL MUNICIPIO'].unique()"
   ]
  },
  {
   "cell_type": "markdown",
   "metadata": {},
   "source": [
    "***"
   ]
  },
  {
   "cell_type": "markdown",
   "metadata": {},
   "source": [
    "## Apply some filters if desired before graphing"
   ]
  },
  {
   "cell_type": "markdown",
   "metadata": {},
   "source": [
    "### Filter by Municipality\n"
   ]
  },
  {
   "cell_type": "code",
   "execution_count": 62,
   "metadata": {},
   "outputs": [],
   "source": [
    "delegacion = 'TLALPAN'\n",
    "urgencias_filtered = urgencias.loc[urgencias['NOMBRE DEL MUNICIPIO']==delegacion]"
   ]
  },
  {
   "cell_type": "markdown",
   "metadata": {},
   "source": [
    "### Filter by Age group - Children"
   ]
  },
  {
   "cell_type": "code",
   "execution_count": 63,
   "metadata": {},
   "outputs": [],
   "source": [
    "max_age = 12\n",
    "urgencias_filtered = urgencias.loc[urgencias['EDAD']<=max_age]"
   ]
  },
  {
   "cell_type": "markdown",
   "metadata": {},
   "source": [
    "### Filter by Age group - Elderly"
   ]
  },
  {
   "cell_type": "code",
   "execution_count": 64,
   "metadata": {},
   "outputs": [],
   "source": [
    "min_age = 60\n",
    "urgencias_filtered = urgencias.loc[urgencias['EDAD']>=min_age]"
   ]
  },
  {
   "cell_type": "markdown",
   "metadata": {},
   "source": [
    "### Filter by Specific Respiratory Disease"
   ]
  },
  {
   "cell_type": "code",
   "execution_count": 65,
   "metadata": {},
   "outputs": [],
   "source": [
    "# First letters of disease code\n",
    "code = \"J45\" # Example for asma\n",
    "urgencias_filtered = urgencias.loc[urgencias['AFECPRIN'].str.startswith(code)==True]"
   ]
  },
  {
   "cell_type": "markdown",
   "metadata": {},
   "source": [
    "***"
   ]
  },
  {
   "cell_type": "markdown",
   "metadata": {},
   "source": [
    "## Time series with filtered data"
   ]
  },
  {
   "cell_type": "code",
   "execution_count": 66,
   "metadata": {},
   "outputs": [],
   "source": [
    "# ----------------------------------------------- #\n",
    "# Only in case no filters were previously applied #\n",
    "# ----------------------------------------------- #\n",
    "urgencias_filtered = urgencias"
   ]
  },
  {
   "cell_type": "markdown",
   "metadata": {},
   "source": [
    "***\n",
    "\n",
    "Select Municipality, in order to divide number of disease cases by entire population.<br>\n",
    "<br>\n",
    "Write \"TOTAL\" if for the whole city\n"
   ]
  },
  {
   "cell_type": "code",
   "execution_count": 67,
   "metadata": {},
   "outputs": [
    {
     "data": {
      "text/plain": [
       "8918653"
      ]
     },
     "execution_count": 67,
     "metadata": {},
     "output_type": "execute_result"
    }
   ],
   "source": [
    "municipality = 'TOTAL'\n",
    "population_in_area = delegaciones['POBLACIÓN'][municipality]\n",
    "population_in_area"
   ]
  },
  {
   "cell_type": "code",
   "execution_count": 68,
   "metadata": {},
   "outputs": [
    {
     "data": {
      "text/plain": [
       "89.18653"
      ]
     },
     "execution_count": 68,
     "metadata": {},
     "output_type": "execute_result"
    }
   ],
   "source": [
    "# Present data as Number of cases per 100K\n",
    "num_to_divide = 100000\n",
    "population_per_100k = population_in_area/num_to_divide\n",
    "population_per_100k"
   ]
  },
  {
   "cell_type": "code",
   "execution_count": 69,
   "metadata": {},
   "outputs": [
    {
     "data": {
      "text/html": [
       "<div>\n",
       "<style scoped>\n",
       "    .dataframe tbody tr th:only-of-type {\n",
       "        vertical-align: middle;\n",
       "    }\n",
       "\n",
       "    .dataframe tbody tr th {\n",
       "        vertical-align: top;\n",
       "    }\n",
       "\n",
       "    .dataframe thead th {\n",
       "        text-align: right;\n",
       "    }\n",
       "</style>\n",
       "<table border=\"1\" class=\"dataframe\">\n",
       "  <thead>\n",
       "    <tr style=\"text-align: right;\">\n",
       "      <th></th>\n",
       "      <th>date</th>\n",
       "      <th>Cases</th>\n",
       "    </tr>\n",
       "  </thead>\n",
       "  <tbody>\n",
       "    <tr>\n",
       "      <th>0</th>\n",
       "      <td>2011-12-25</td>\n",
       "      <td>0.011212</td>\n",
       "    </tr>\n",
       "    <tr>\n",
       "      <th>1</th>\n",
       "      <td>2011-12-26</td>\n",
       "      <td>5.124092</td>\n",
       "    </tr>\n",
       "    <tr>\n",
       "      <th>2</th>\n",
       "      <td>2011-12-27</td>\n",
       "      <td>5.101667</td>\n",
       "    </tr>\n",
       "    <tr>\n",
       "      <th>3</th>\n",
       "      <td>2011-12-28</td>\n",
       "      <td>5.000755</td>\n",
       "    </tr>\n",
       "    <tr>\n",
       "      <th>4</th>\n",
       "      <td>2011-12-29</td>\n",
       "      <td>4.664381</td>\n",
       "    </tr>\n",
       "  </tbody>\n",
       "</table>\n",
       "</div>"
      ],
      "text/plain": [
       "        date     Cases\n",
       "0 2011-12-25  0.011212\n",
       "1 2011-12-26  5.124092\n",
       "2 2011-12-27  5.101667\n",
       "3 2011-12-28  5.000755\n",
       "4 2011-12-29  4.664381"
      ]
     },
     "execution_count": 69,
     "metadata": {},
     "output_type": "execute_result"
    }
   ],
   "source": [
    "urgencias_sorted = urgencias_filtered.groupby('date')['AFECPRIN'].count().reset_index()\n",
    "# urgencias_sorted = urgencias_sorted.reset_index()\n",
    "urgencias_sorted = urgencias_sorted.rename(columns={'AFECPRIN':'Cases'})\n",
    "urgencias_sorted['Cases'] = urgencias_sorted['Cases']/population_per_100k\n",
    "\n",
    "urgencias_sorted.head()\n"
   ]
  },
  {
   "cell_type": "markdown",
   "metadata": {},
   "source": [
    "***\n",
    "Calculate a Moving Average of 7 days."
   ]
  },
  {
   "cell_type": "code",
   "execution_count": 70,
   "metadata": {},
   "outputs": [],
   "source": [
    "urgencias_sorted['MA'] = urgencias_sorted['Cases'].rolling(7).mean()"
   ]
  },
  {
   "cell_type": "code",
   "execution_count": 71,
   "metadata": {
    "scrolled": true
   },
   "outputs": [
    {
     "data": {
      "text/html": [
       "<div>\n",
       "<style scoped>\n",
       "    .dataframe tbody tr th:only-of-type {\n",
       "        vertical-align: middle;\n",
       "    }\n",
       "\n",
       "    .dataframe tbody tr th {\n",
       "        vertical-align: top;\n",
       "    }\n",
       "\n",
       "    .dataframe thead th {\n",
       "        text-align: right;\n",
       "    }\n",
       "</style>\n",
       "<table border=\"1\" class=\"dataframe\">\n",
       "  <thead>\n",
       "    <tr style=\"text-align: right;\">\n",
       "      <th></th>\n",
       "      <th>date</th>\n",
       "      <th>Cases</th>\n",
       "      <th>MA</th>\n",
       "    </tr>\n",
       "  </thead>\n",
       "  <tbody>\n",
       "    <tr>\n",
       "      <th>0</th>\n",
       "      <td>2011-12-25</td>\n",
       "      <td>0.011212</td>\n",
       "      <td>NaN</td>\n",
       "    </tr>\n",
       "    <tr>\n",
       "      <th>1</th>\n",
       "      <td>2011-12-26</td>\n",
       "      <td>5.124092</td>\n",
       "      <td>NaN</td>\n",
       "    </tr>\n",
       "    <tr>\n",
       "      <th>2</th>\n",
       "      <td>2011-12-27</td>\n",
       "      <td>5.101667</td>\n",
       "      <td>NaN</td>\n",
       "    </tr>\n",
       "    <tr>\n",
       "      <th>3</th>\n",
       "      <td>2011-12-28</td>\n",
       "      <td>5.000755</td>\n",
       "      <td>NaN</td>\n",
       "    </tr>\n",
       "    <tr>\n",
       "      <th>4</th>\n",
       "      <td>2011-12-29</td>\n",
       "      <td>4.664381</td>\n",
       "      <td>NaN</td>\n",
       "    </tr>\n",
       "    <tr>\n",
       "      <th>5</th>\n",
       "      <td>2011-12-30</td>\n",
       "      <td>4.350433</td>\n",
       "      <td>NaN</td>\n",
       "    </tr>\n",
       "    <tr>\n",
       "      <th>6</th>\n",
       "      <td>2011-12-31</td>\n",
       "      <td>2.466740</td>\n",
       "      <td>3.817040</td>\n",
       "    </tr>\n",
       "    <tr>\n",
       "      <th>7</th>\n",
       "      <td>2012-01-01</td>\n",
       "      <td>3.363737</td>\n",
       "      <td>4.295972</td>\n",
       "    </tr>\n",
       "    <tr>\n",
       "      <th>8</th>\n",
       "      <td>2012-01-02</td>\n",
       "      <td>4.552257</td>\n",
       "      <td>4.214281</td>\n",
       "    </tr>\n",
       "    <tr>\n",
       "      <th>9</th>\n",
       "      <td>2012-01-03</td>\n",
       "      <td>4.384070</td>\n",
       "      <td>4.111768</td>\n",
       "    </tr>\n",
       "  </tbody>\n",
       "</table>\n",
       "</div>"
      ],
      "text/plain": [
       "        date     Cases        MA\n",
       "0 2011-12-25  0.011212       NaN\n",
       "1 2011-12-26  5.124092       NaN\n",
       "2 2011-12-27  5.101667       NaN\n",
       "3 2011-12-28  5.000755       NaN\n",
       "4 2011-12-29  4.664381       NaN\n",
       "5 2011-12-30  4.350433       NaN\n",
       "6 2011-12-31  2.466740  3.817040\n",
       "7 2012-01-01  3.363737  4.295972\n",
       "8 2012-01-02  4.552257  4.214281\n",
       "9 2012-01-03  4.384070  4.111768"
      ]
     },
     "execution_count": 71,
     "metadata": {},
     "output_type": "execute_result"
    }
   ],
   "source": [
    "urgencias_sorted.head(10)"
   ]
  },
  {
   "cell_type": "markdown",
   "metadata": {},
   "source": [
    "***\n"
   ]
  },
  {
   "cell_type": "markdown",
   "metadata": {},
   "source": [
    "## Graph a time series"
   ]
  },
  {
   "cell_type": "code",
   "execution_count": 72,
   "metadata": {},
   "outputs": [
    {
     "data": {
      "image/png": "[encoded data removed]",
      "text/plain": [
       "<Figure size 720x432 with 1 Axes>"
      ]
     },
     "metadata": {
      "needs_background": "light"
     },
     "output_type": "display_data"
    }
   ],
   "source": [
    "plt.figure(figsize =(10,6))\n",
    "\n",
    "plt.title(\"Respiratory Diseases over time in CDMX\")\n",
    "plt.xlabel(\"Time\")\n",
    "plt.ylabel(\"Emergencies per 100k population\")\n",
    "\n",
    "# Add in a grid for the chart\n",
    "plt.grid()\n",
    "\n",
    "respiratory, = plt.plot(urgencias_sorted['date'], urgencias_sorted['MA'], color='red', linewidth=1, label='Cases per 100k')\n",
    "\n",
    "# Set x and y limits\n",
    "plt.xlim('2013-01-01', '2016-12-31')\n",
    "plt.xticks(rotation=90)\n",
    "\n",
    "# Create a handle for each plot\n",
    "\n",
    "\n",
    "# Set our legend to where the chart thinks is best\n",
    "# plt.legend(handles=[fahrenheit, celcius], loc=\"best\")\n",
    "\n",
    "plt.savefig(\"../Images/diseases_CDMX_all_respiratory.png\")\n",
    "plt.show()"
   ]
  },
  {
   "cell_type": "markdown",
   "metadata": {},
   "source": [
    "***\n",
    "### Create a summary of Total Respiratory Diseases and Total Number of Emergencies en every Municipality"
   ]
  },
  {
   "cell_type": "code",
   "execution_count": 73,
   "metadata": {},
   "outputs": [
    {
     "data": {
      "text/plain": [
       "Index(['ÁLVARO OBREGÓN', 'AZCAPOTZALCO', 'BENITO JUÁREZ', 'COYOACÁN',\n",
       "       'CUAJIMALPA DE MORELOS', 'CUAUHTÉMOC', 'GUSTAVO A. MADERO', 'IZTACALCO',\n",
       "       'IZTAPALAPA', 'LA MAGDALENA CONTRERAS', 'MIGUEL HIDALGO', 'MILPA ALTA',\n",
       "       'TLÁHUAC', 'TLALPAN', 'VENUSTIANO CARRANZA', 'XOCHIMILCO', 'TOTAL'],\n",
       "      dtype='object', name='DELEGACIÓN')"
      ]
     },
     "execution_count": 73,
     "metadata": {},
     "output_type": "execute_result"
    }
   ],
   "source": [
    "delegaciones['ABREV'].keys()"
   ]
  },
  {
   "cell_type": "code",
   "execution_count": 74,
   "metadata": {},
   "outputs": [],
   "source": [
    "municipalities = ['ÁLVARO OBREGÓN', 'AZCAPOTZALCO', 'BENITO JUÁREZ', \n",
    "                  'COYOACÁN', 'CUAJIMALPA DE MORELOS', 'CUAUHTÉMOC', \n",
    "                  'GUSTAVO A. MADERO', 'IZTACALCO', 'IZTAPALAPA', \n",
    "                  'LA MAGDALENA CONTRERAS', 'MIGUEL HIDALGO', 'MILPA ALTA', \n",
    "                  'TLÁHUAC', 'TLALPAN', 'VENUSTIANO CARRANZA', 'XOCHIMILCO', 'TOTAL']"
   ]
  },
  {
   "cell_type": "markdown",
   "metadata": {},
   "source": [
    "For Child Asthma"
   ]
  },
  {
   "cell_type": "code",
   "execution_count": 75,
   "metadata": {},
   "outputs": [],
   "source": [
    "delegacion = 'TLALPAN' # Usar 'TOTAL' para toda la CDMX\n",
    "code = \"J45\"\n",
    "num_to_divide = 100000 # For example, for every 100,000 hab\n",
    "max_age = 18 "
   ]
  },
  {
   "cell_type": "code",
   "execution_count": 76,
   "metadata": {},
   "outputs": [
    {
     "data": {
      "text/plain": [
       "1834"
      ]
     },
     "execution_count": 76,
     "metadata": {},
     "output_type": "execute_result"
    }
   ],
   "source": [
    "urgencias['date'].nunique()"
   ]
  },
  {
   "cell_type": "markdown",
   "metadata": {},
   "source": [
    "Repeat for every municipality:"
   ]
  },
  {
   "cell_type": "code",
   "execution_count": 120,
   "metadata": {},
   "outputs": [],
   "source": [
    "population_per_100k = delegaciones['POBLACIÓN'][delegacion]/num_to_divide\n",
    "\n",
    "#Child asthma\n",
    "urgencias_asma = urgencias.loc[urgencias['NOMBRE DEL MUNICIPIO']==delegacion] \\\n",
    "    .loc[urgencias['AFECPRIN'].str.startswith(code)==True] \\\n",
    "    .loc[urgencias['EDAD']<=max_age] \\\n",
    "    .groupby('date')['AFECPRIN'] \\\n",
    "    .count().reset_index().rename(columns={'AFECPRIN':'Cases'}) \n",
    "urgencias_asma[f'ASMA/100k_{delegacion}'] = urgencias_sorted['Cases']/population_per_100k\n",
    "urgencias_asma = urgencias_asma[['date', f'ASMA/100k_{delegacion}']]\n",
    "\n",
    "# Total Emergencies\n",
    "urgencias_tot = urgencias.loc[urgencias['NOMBRE DEL MUNICIPIO']==delegacion] \\\n",
    "    .groupby('date')['AFECPRIN'].count() \\\n",
    "    .reset_index().rename(columns={'AFECPRIN':'Cases'}) \n",
    "urgencias_tot[f'Cases/100k_{delegacion}'] = urgencias_tot['Cases']/population_per_100k\n",
    "urgencias_tot = urgencias_tot[['date', f'Cases/100k_{delegacion}']]\n",
    "\n",
    "urgencias_TOTAL = pd.merge(urgencias_tot, urgencias_asma, on='date', how='outer')\n",
    "\n",
    "urgencias_TOTAL.to_csv(f'../Resources/Urgencias_{delegacion}.csv')"
   ]
  },
  {
   "cell_type": "code",
   "execution_count": 181,
   "metadata": {},
   "outputs": [],
   "source": [
    "#TOTAL\n",
    "population_per_100k = delegaciones['POBLACIÓN'][delegacion]/num_to_divide\n",
    "\n",
    "#Child asthma\n",
    "urgencias_asma = urgencias.loc[urgencias['AFECPRIN'].str.startswith(code)==True] \\\n",
    "    .loc[urgencias['EDAD']<=max_age] \\\n",
    "    .groupby('date')['AFECPRIN'] \\\n",
    "    .count().reset_index().rename(columns={'AFECPRIN':'Cases'}) \n",
    "urgencias_asma[f'ASMA/100k_{delegacion}'] = urgencias_sorted['Cases']/population_per_100k\n",
    "urgencias_asma = urgencias_asma[['date', f'ASMA/100k_{delegacion}']]\n",
    "\n",
    "# Total Emergencies\n",
    "urgencias_tot = urgencias.groupby('date')['AFECPRIN'].count() \\\n",
    "    .reset_index().rename(columns={'AFECPRIN':'Cases'}) \n",
    "urgencias_tot[f'Cases/100k_{delegacion}'] = urgencias_tot['Cases']/population_per_100k\n",
    "urgencias_tot = urgencias_tot[['date', f'Cases/100k_{delegacion}']]\n",
    "\n",
    "urgencias_TOTAL = pd.merge(urgencias_tot, urgencias_asma, on='date', how='outer')\n",
    "\n",
    "urgencias_TOTAL.to_csv(f'../Resources/Urgencias_{delegacion}.csv')"
   ]
  },
  {
   "cell_type": "code",
   "execution_count": 182,
   "metadata": {},
   "outputs": [],
   "source": [
    "urgencias_TOTAL['date'] = str(urgencias_TOTAL['date'])"
   ]
  },
  {
   "cell_type": "code",
   "execution_count": 183,
   "metadata": {},
   "outputs": [],
   "source": [
    "urgencias_OBREGON = pd.read_csv('../Resources/Urgencias_ÁLVARO OBREGÓN.csv', engine='python', usecols=[1,2,3], encoding='UTF-8')\n",
    "urgencias_AZCAPOTZALCO = pd.read_csv('../Resources/Urgencias_AZCAPOTZALCO.csv', usecols=[1,2,3], encoding='UTF-8')\n",
    "urgencias_BENITOJUAREZ = pd.read_csv('../Resources/Urgencias_BENITO JUÁREZ.csv', engine='python', usecols=[1,2,3], encoding='UTF-8')\n",
    "urgencias_COYOACAN = pd.read_csv('../Resources/Urgencias_COYOACÁN.csv', engine='python', usecols=[1,2,3], encoding='UTF-8')\n",
    "urgencias_CUAJIMALPA = pd.read_csv('../Resources/Urgencias_CUAJIMALPA DE MORELOS.csv', engine='python', usecols=[1,2,3], encoding='UTF-8')\n",
    "urgencias_CUAUHTEMOC = pd.read_csv('../Resources/Urgencias_CUAUHTÉMOC.csv', engine='python', usecols=[1,2,3], encoding='UTF-8')\n",
    "urgencias_GAM = pd.read_csv('../Resources/Urgencias_GUSTAVO A. MADERO.csv', engine='python', usecols=[1,2,3], encoding='UTF-8')\n",
    "urgencias_IZTACALCO = pd.read_csv('../Resources/Urgencias_IZTACALCO.csv', engine='python', usecols=[1,2,3], encoding='UTF-8')\n",
    "urgencias_IZTAPALAPA = pd.read_csv('../Resources/Urgencias_IZTAPALAPA.csv', engine='python', usecols=[1,2,3], encoding='UTF-8')\n",
    "urgencias_MAGDALENACONTRERAS = pd.read_csv('../Resources/Urgencias_LA MAGDALENA CONTRERAS.csv', engine='python', usecols=[1,2,3], encoding='UTF-8')\n",
    "urgencias_MIGUELHIDALGO = pd.read_csv('../Resources/Urgencias_MIGUEL HIDALGO.csv', engine='python', usecols=[1,2,3], encoding='UTF-8')\n",
    "urgencias_MILPAALTA = pd.read_csv('../Resources/Urgencias_MILPA ALTA.csv', engine='python', usecols=[1,2,3], encoding='UTF-8')\n",
    "urgencias_TLAHUAC = pd.read_csv('../Resources/Urgencias_TLÁHUAC.csv', engine='python', usecols=[1,2,3], encoding='UTF-8')\n",
    "urgencias_TLALPAN = pd.read_csv('../Resources/Urgencias_TLALPAN.csv', engine='python', usecols=[1,2,3], encoding='UTF-8')\n",
    "urgencias_VENUSTIANO = pd.read_csv('../Resources/Urgencias_VENUSTIANO CARRANZA.csv', engine='python', usecols=[1,2,3], encoding='UTF-8')\n",
    "urgencias_XOCHIMILCO = pd.read_csv('../Resources/Urgencias_XOCHIMILCO.csv', engine='python', usecols=[1,2,3], encoding='UTF-8')\n",
    "urgencias_TOTAL = pd.read_csv('../Resources/Urgencias_TOTAL.csv', engine='python', usecols=[1,2,3], encoding='UTF-8')"
   ]
  },
  {
   "cell_type": "code",
   "execution_count": 185,
   "metadata": {},
   "outputs": [],
   "source": [
    "summary1 = pd.merge(urgencias_OBREGON, urgencias_AZCAPOTZALCO, on='date', how='outer')\n",
    "summary2 = pd.merge(urgencias_BENITOJUAREZ, urgencias_COYOACAN , on='date', how='outer')\n",
    "summary3 = pd.merge(urgencias_CUAJIMALPA, urgencias_CUAUHTEMOC , on='date', how='outer')\n",
    "summary4 = pd.merge(urgencias_GAM, urgencias_IZTACALCO , on='date', how='outer')\n",
    "summary5 = pd.merge(urgencias_IZTAPALAPA, urgencias_MAGDALENACONTRERAS , on='date', how='outer')\n",
    "summary6 = pd.merge(urgencias_MIGUELHIDALGO, urgencias_MILPAALTA , on='date', how='outer')\n",
    "summary7 = pd.merge(urgencias_TLAHUAC, urgencias_TLALPAN , on='date', how='outer')\n",
    "summary8 = pd.merge(urgencias_VENUSTIANO, urgencias_XOCHIMILCO , on='date', how='outer')\n",
    "\n",
    "\n",
    "summary10 = pd.merge(summary1, summary2 , on='date', how='outer')\n",
    "summary11 = pd.merge(summary3, summary4 , on='date', how='outer')\n",
    "summary12 = pd.merge(summary5, summary6 , on='date', how='outer')\n",
    "summary13 = pd.merge(summary7, summary8 , on='date', how='outer')\n",
    "\n",
    "summary20 = pd.merge(summary10, summary11 , on='date', how='outer')\n",
    "summary21 = pd.merge(summary12, summary13 , on='date', how='outer')\n",
    "\n",
    "summary30 = pd.merge(summary20, summary21 , on='date', how='outer')\n",
    "summary = pd.merge(summary30, urgencias_TOTAL , on='date', how='outer')"
   ]
  },
  {
   "cell_type": "code",
   "execution_count": 186,
   "metadata": {},
   "outputs": [
    {
     "data": {
      "text/plain": [
       "Index(['date', 'Cases/100k_ÁLVARO OBREGÓN', 'ASMA/100k_ÁLVARO OBREGÓN',\n",
       "       'Cases/100k_AZCAPOTZALCO', 'ASMA/100k_AZCAPOTZALCO',\n",
       "       'Cases/100k_BENITO JUÁREZ', 'ASMA/100k_BENITO JUÁREZ',\n",
       "       'Cases/100k_COYOACÁN', 'ASMA/100k_COYOACÁN',\n",
       "       'Cases/100k_CUAJIMALPA DE MORELOS', 'ASMA/100k_CUAJIMALPA DE MORELOS',\n",
       "       'Cases/100k_CUAUHTÉMOC', 'ASMA/100k_CUAUHTÉMOC',\n",
       "       'Cases/100k_GUSTAVO A. MADERO', 'ASMA/100k_GUSTAVO A. MADERO',\n",
       "       'Cases/100k_IZTACALCO', 'ASMA/100k_IZTACALCO', 'Cases/100k_IZTAPALAPA',\n",
       "       'ASMA/100k_IZTAPALAPA', 'Cases/100k_LA MAGDALENA CONTRERAS',\n",
       "       'ASMA/100k_LA MAGDALENA CONTRERAS', 'Cases/100k_MIGUEL HIDALGO',\n",
       "       'ASMA/100k_MIGUEL HIDALGO', 'Cases/100k_MILPA ALTA',\n",
       "       'ASMA/100k_MILPA ALTA', 'Cases/100k_TLÁHUAC', 'ASMA/100k_TLÁHUAC',\n",
       "       'Cases/100k_TLALPAN', 'ASMA/100k_TLALPAN',\n",
       "       'Cases/100k_VENUSTIANO CARRANZA', 'ASMA/100k_VENUSTIANO CARRANZA',\n",
       "       'Cases/100k_XOCHIMILCO', 'ASMA/100k_XOCHIMILCO', 'Cases/100k_TOTAL',\n",
       "       'ASMA/100k_TOTAL'],\n",
       "      dtype='object')"
      ]
     },
     "execution_count": 186,
     "metadata": {},
     "output_type": "execute_result"
    }
   ],
   "source": [
    "summary.columns"
   ]
  },
  {
   "cell_type": "code",
   "execution_count": 187,
   "metadata": {},
   "outputs": [],
   "source": [
    "summary.to_csv('../Resources/urgencias_asma-inf_por_delegacion.csv', encoding='UTF-8')"
   ]
  },
  {
   "cell_type": "code",
   "execution_count": null,
   "metadata": {},
   "outputs": [],
   "source": [
    "summary = pd.read_csv('../Resources/urgencias_asma-inf_por_delegacion.csv')"
   ]
  }
 ],
 "metadata": {
  "kernelspec": {
   "display_name": "Python 3",
   "language": "python",
   "name": "python3"
  },
  "language_info": {
   "codemirror_mode": {
    "name": "ipython",
    "version": 3
   },
   "file_extension": ".py",
   "mimetype": "text/x-python",
   "name": "python",
   "nbconvert_exporter": "python",
   "pygments_lexer": "ipython3",
   "version": "3.6.7"
  }
 },
 "nbformat": 4,
 "nbformat_minor": 2
}
